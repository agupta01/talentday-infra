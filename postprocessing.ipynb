{
 "cells": [
  {
   "cell_type": "code",
   "execution_count": 19,
   "id": "d2c9c276",
   "metadata": {},
   "outputs": [],
   "source": [
    "logs = [\n",
    "    '{\"green\":[\"alliances.gobble.plodded\",\"stringers.overthrows.trackable\",\"piggybacking.psychics.zigzags\",\"footnote.veneered.garish\",\"sparsely.sieved.parameter\",\"gingers.preschools.archly\",\"professors.disloyal.interjects\",\"hailstorm.alienates.inasmuch\",\"detention.accuracies.decomposing\",\"developmental.tidier.competitively\",\"showstoppers.eyestrain.breakthroughs\",\"bribery.warded.abrasion\",\"unwind.cashier.accosted\",\"unwind.cashier.accosted\",\"caverns.birdman.moderators\",\"slap.wavery.militant\",\"joyriding.absentee.winemaking\",\"yeasts.violin.shim\",\"honeymooned.togas.unpopularity\",\"mathematician.resurgent.nimbly\",\"gigabytes.probable.snappers\",\"boxes.guttered.disavows\",\"rebounders.realm.aperture\",\"mediums.songwriting.compensator\",\"reveal.scuffles.probiotics\",\"tinges.motorcycling.motivation\",\"inoffensive.quilters.podiatry\",\"vestiges.misplacing.virtuosity\",\"rewire.daylights.soundless\",\"inculcating.nozzles.whelk\"],\"orange\":[\"hibiscus.slighter.difference\",\"microprocessors.cannily.airframe\",\"declarations.foretells.sergeant\",\"alumni.anvils.searchingly\",\"shiftless.administration.noisome\",\"spicy.misjudges.dawning\",\"turntables.academics.bartered\",\"risers.teetering.weeknights\",\"wealthier.exactly.unimpeded\",\"persuasively.wildebeest.insinuate\",\"twisty.disregard.violin\",\"recency.bandmates.lacy\"]}',\n",
    "    \"{\\\"green\\\":[\\\"cushioning.inhibition.abdicating\\\",\\\"playoff.giveth.nomadism\\\",\\\"frown.response.ratted\\\",\\\"determinist.anecdotal.fluctuating\\\",\\\"thickly.amorality.misfire\\\",\\\"antiquities.fatness.plaques\\\",\\\"succinct.cramps.discoverers\\\",\\\"dots.iniquity.waterskiing\\\",\\\"agave.mascot.multivitamins\\\",\\\"commissary.dubiously.imperative\\\",\\\"unprofessional.brisker.purloined\\\",\\\"canines.semicolon.plural\\\",\\\"lawn.concoct.disquieting\\\",\\\"anticompetitive.clandestinely.underfoot\\\",\\\"outstanding.overstepping.seaports\\\",\\\"wrecker.biogenic.plagiarist\\\",\\\"rearrangement.trills.remarked\\\",\\\"mainland.alumnus.attics\\\",\\\"lavishes.breadstick.renovating\\\",\\\"rats.intimidator.ginormous\\\",\\\"hipped.franchises.inadvisable\\\",\\\"sorcerer.precipice.yeast\\\",\\\"likeliest.unpaged.late\\\",\\\"renounce.perfect.recompose\\\",\\\"words.busywork.range\\\",\\\"guested.hypothermic.placating\\\",\\\"wretched.gauzy.doorknobs\\\",\\\"disposes.eying.teats\\\",\\\"foreseen.rehab.coextensive\\\",\\\"hardly.reinsurance.withstood\\\",\\\"posed.remake.shyness\\\",\\\"stringy.reassigning.orphanage\\\"],\\\"orange\\\":[\\\"fridays.forest.attendees\\\",\\\"commissary.miming.forfeits\\\",\\\"floods.fatherland.tickler\\\",\\\"content.outriggers.shaped\\\",\\\"decimal.senselessness.hooked\\\",\\\"swifter.nostalgic.municipal\\\",\\\"enervating.crashes.reference\\\",\\\"untraceable.cashed.privations\\\",\\\"architects.mackerels.uneconomical\\\",\\\"emancipation.encased.traipse\\\",\\\"playable.uplifted.homelike\\\",\\\"playable.uplifted.homelike\\\",\\\"agreeable.inventing.eldercare\\\",\\\"selectable.necessities.gush\\\",\\\"dependents.amplifier.summoned\\\",\\\"encouraged.chin.untested\\\"]}\",\n",
    "    '{\"green\":[\"washdown.returns.acupuncturist\",\"overplaying.upbringings.snipped\",\"overplaying.upbringings.snipped\",\"untidily.washings.crabmeat\",\"scissored.figs.kiosks\",\"doorways.discard.manatee\",\"lobbies.automates.broth\",\"biology.coeducation.complainer\"],\"orange\":[\"crane.melodramatic.carmaker\",\"customer.roofing.antibacterial\",\"customer.roofing.antibacterial\",\"customer.roofing.antibacterial\",\"videotape.conspiracy.modulation\",\"dare.wrestlers.winemakers\",\"metalworker.ruinously.recombined\",\"sonnet.butterfly.manipulation\",\"stoking.heartbreakers.soundbites\"]}',\n",
    "    \"{\\\"green\\\":[\\\"viable.legislative.clambers\\\",\\\"sung.portrayed.booths\\\",\\\"riverbed.government.birdhouses\\\",\\\"particulars.sawdust.rind\\\",\\\"sigh.dangling.coda\\\",\\\"vexed.inspire.battles\\\",\\\"ratchet.meaningfulness.unbolt\\\"],\\\"orange\\\":[\\\"expendable.factoids.paparazzo\\\",\\\"unchanging.distort.trapped\\\",\\\"undersized.donates.believe\\\",\\\"quantities.traditional.fusses\\\",\\\"scallop.enamel.healer\\\",\\\"interloper.deletes.flora\\\",\\\"brining.gaffer.sinkholes\\\",\\\"flatters.casework.transactional\\\",\\\"thumbs.shimmery.hairpin\\\",\\\"contrivance.rounding.grating\\\",\\\"toughness.sham.crusting\\\",\\\"slumbered.zapped.miscalculated\\\",\\\"causeways.evolution.wallpapers\\\",\\\"divots.irreparably.tectonic\\\",\\\"risky.overextend.locator\\\"]}\"\n",
    "]"
   ]
  },
  {
   "cell_type": "code",
   "execution_count": 51,
   "id": "874f946d",
   "metadata": {},
   "outputs": [],
   "source": [
    "import json\n",
    "import pandas as pd\n",
    "import subprocess\n",
    "import concurrent.futures"
   ]
  },
  {
   "cell_type": "code",
   "execution_count": 21,
   "id": "8258d16e",
   "metadata": {},
   "outputs": [],
   "source": [
    "all_logs = {}\n",
    "\n",
    "for log in logs:\n",
    "    parsed_log = json.loads(log)\n",
    "    assert 'green' in parsed_log and 'orange' in parsed_log\n",
    "    if 'green' not in all_logs:\n",
    "        all_logs['green'] = parsed_log['green']\n",
    "    else:\n",
    "        all_logs['green'].extend(parsed_log['green'])\n",
    "    \n",
    "    if 'orange' not in all_logs:\n",
    "        all_logs['orange'] = parsed_log['orange']\n",
    "    else:\n",
    "        all_logs['orange'].extend(parsed_log['orange'])\n",
    "    "
   ]
  },
  {
   "cell_type": "code",
   "execution_count": 22,
   "id": "857440c9",
   "metadata": {},
   "outputs": [
    {
     "data": {
      "text/plain": [
       "129"
      ]
     },
     "execution_count": 22,
     "metadata": {},
     "output_type": "execute_result"
    }
   ],
   "source": [
    "len(all_logs['green'] + all_logs['orange'])"
   ]
  },
  {
   "cell_type": "code",
   "execution_count": 23,
   "id": "bef49b7e",
   "metadata": {},
   "outputs": [],
   "source": [
    "!mkdir resumes"
   ]
  },
  {
   "cell_type": "code",
   "execution_count": 30,
   "id": "b9656075",
   "metadata": {},
   "outputs": [],
   "source": [
    "all_codes = pd.read_json(\"./reglists/checkin_codes.json\")\n",
    "all_students = pd.read_csv(\"../talentdaystudents_raw_10_11.csv\")"
   ]
  },
  {
   "cell_type": "code",
   "execution_count": 31,
   "id": "2539b03b",
   "metadata": {},
   "outputs": [
    {
     "data": {
      "text/html": [
       "<div>\n",
       "<style scoped>\n",
       "    .dataframe tbody tr th:only-of-type {\n",
       "        vertical-align: middle;\n",
       "    }\n",
       "\n",
       "    .dataframe tbody tr th {\n",
       "        vertical-align: top;\n",
       "    }\n",
       "\n",
       "    .dataframe thead th {\n",
       "        text-align: right;\n",
       "    }\n",
       "</style>\n",
       "<table border=\"1\" class=\"dataframe\">\n",
       "  <thead>\n",
       "    <tr style=\"text-align: right;\">\n",
       "      <th></th>\n",
       "      <th>guested.hypothermic.placating</th>\n",
       "      <th>scree.minder.chewed</th>\n",
       "      <th>longbow.backlight.transmitter</th>\n",
       "      <th>pretext.proposes.shirtfront</th>\n",
       "      <th>confectioner.quinine.immaculate</th>\n",
       "      <th>arbitral.falsehood.tracksuit</th>\n",
       "      <th>undercuts.inky.drapery</th>\n",
       "      <th>rotating.snoops.groovy</th>\n",
       "      <th>rearrangement.trills.remarked</th>\n",
       "      <th>quivered.marathon.malformation</th>\n",
       "      <th>...</th>\n",
       "      <th>breadsticks.taster.classicist</th>\n",
       "      <th>risky.overextend.locator</th>\n",
       "      <th>overplaying.upbringings.snipped</th>\n",
       "      <th>redoubling.nylons.tolerant</th>\n",
       "      <th>scallop.enamel.healer</th>\n",
       "      <th>moviegoing.bassist.chapter</th>\n",
       "      <th>gingers.preschools.archly</th>\n",
       "      <th>botanical.sergeants.farmwork</th>\n",
       "      <th>applications.hyacinths.sunbaked</th>\n",
       "      <th>exposes.frail.presidents</th>\n",
       "    </tr>\n",
       "  </thead>\n",
       "  <tbody>\n",
       "    <tr>\n",
       "      <th>0</th>\n",
       "      <td>Emily Rebecca Mary Wurst</td>\n",
       "      <td>Vicky Li</td>\n",
       "      <td>Vivek sharma</td>\n",
       "      <td>megan huynh</td>\n",
       "      <td>Lily Yu</td>\n",
       "      <td>Tony Ta</td>\n",
       "      <td>Winston Yu</td>\n",
       "      <td>Ananay Parth Sharma</td>\n",
       "      <td>Shashank Sistla</td>\n",
       "      <td>Samuel Zhou</td>\n",
       "      <td>...</td>\n",
       "      <td>Kent Andrew Utama</td>\n",
       "      <td>Hogun Kim</td>\n",
       "      <td>Stanley F Sisson</td>\n",
       "      <td>Aditi Krishnakumar</td>\n",
       "      <td>Harsh Gurnani</td>\n",
       "      <td>Garrett Lam</td>\n",
       "      <td>Kyle MacLaughlin</td>\n",
       "      <td>Shengqiu Jin</td>\n",
       "      <td>Vincent Tu</td>\n",
       "      <td>Meiqi Lai</td>\n",
       "    </tr>\n",
       "    <tr>\n",
       "      <th>1</th>\n",
       "      <td>ewurst@ucsd.edu</td>\n",
       "      <td>yil164@ucsd.edu</td>\n",
       "      <td>v7sharma@ucsd.edu</td>\n",
       "      <td>mlhuynh@ucsd.edu</td>\n",
       "      <td>alyu@ucsd.edu</td>\n",
       "      <td>tony.tta16@gmail.com</td>\n",
       "      <td>wiyu@ucsd.edu</td>\n",
       "      <td>ans037@ucsd.edu</td>\n",
       "      <td>shsistla@ucsd.edu</td>\n",
       "      <td>szhou@ucsd.edu</td>\n",
       "      <td>...</td>\n",
       "      <td>kentandrew113@gmail.com</td>\n",
       "      <td>hok008@ucsd.edu</td>\n",
       "      <td>sfsisson@ucsd.edu</td>\n",
       "      <td>adkrishn@ucsd.edu</td>\n",
       "      <td>hgurnani@ucsd.edu</td>\n",
       "      <td>g1lam@ucsd.edu</td>\n",
       "      <td>kmaclaug@ucsd.edu</td>\n",
       "      <td>s3jin@ucsd.edu</td>\n",
       "      <td>tuvincent0106@gmail.com</td>\n",
       "      <td>meiqilai22@gmail.com</td>\n",
       "    </tr>\n",
       "    <tr>\n",
       "      <th>2</th>\n",
       "      <td>Yes</td>\n",
       "      <td>No</td>\n",
       "      <td>No, but I'd like to be!</td>\n",
       "      <td>No</td>\n",
       "      <td>No</td>\n",
       "      <td>No</td>\n",
       "      <td>No</td>\n",
       "      <td>No, but I'd like to be!</td>\n",
       "      <td>No, but I'd like to be!</td>\n",
       "      <td>No</td>\n",
       "      <td>...</td>\n",
       "      <td>Yes</td>\n",
       "      <td>No, but I'd like to be!</td>\n",
       "      <td>Yes</td>\n",
       "      <td>No, but I'd like to be!</td>\n",
       "      <td>Yes</td>\n",
       "      <td>No, but I'd like to be!</td>\n",
       "      <td>No, but I'd like to be!</td>\n",
       "      <td>Yes</td>\n",
       "      <td>Yes</td>\n",
       "      <td>No, but I'd like to be!</td>\n",
       "    </tr>\n",
       "    <tr>\n",
       "      <th>3</th>\n",
       "      <td>True</td>\n",
       "      <td>True</td>\n",
       "      <td>True</td>\n",
       "      <td>True</td>\n",
       "      <td>True</td>\n",
       "      <td>True</td>\n",
       "      <td>True</td>\n",
       "      <td>True</td>\n",
       "      <td>True</td>\n",
       "      <td>True</td>\n",
       "      <td>...</td>\n",
       "      <td>True</td>\n",
       "      <td>False</td>\n",
       "      <td>False</td>\n",
       "      <td>False</td>\n",
       "      <td>False</td>\n",
       "      <td>False</td>\n",
       "      <td>False</td>\n",
       "      <td>False</td>\n",
       "      <td>False</td>\n",
       "      <td>False</td>\n",
       "    </tr>\n",
       "    <tr>\n",
       "      <th>4</th>\n",
       "      <td>0</td>\n",
       "      <td>0</td>\n",
       "      <td>0</td>\n",
       "      <td>0</td>\n",
       "      <td>0</td>\n",
       "      <td>0</td>\n",
       "      <td>0</td>\n",
       "      <td>0</td>\n",
       "      <td>0</td>\n",
       "      <td>0</td>\n",
       "      <td>...</td>\n",
       "      <td>1</td>\n",
       "      <td>2</td>\n",
       "      <td>2</td>\n",
       "      <td>2</td>\n",
       "      <td>2</td>\n",
       "      <td>2</td>\n",
       "      <td>2</td>\n",
       "      <td>2</td>\n",
       "      <td>2</td>\n",
       "      <td>2</td>\n",
       "    </tr>\n",
       "  </tbody>\n",
       "</table>\n",
       "<p>5 rows × 239 columns</p>\n",
       "</div>"
      ],
      "text/plain": [
       "  guested.hypothermic.placating scree.minder.chewed  \\\n",
       "0      Emily Rebecca Mary Wurst            Vicky Li   \n",
       "1               ewurst@ucsd.edu     yil164@ucsd.edu   \n",
       "2                           Yes                  No   \n",
       "3                          True                True   \n",
       "4                             0                   0   \n",
       "\n",
       "  longbow.backlight.transmitter pretext.proposes.shirtfront  \\\n",
       "0                  Vivek sharma                 megan huynh   \n",
       "1             v7sharma@ucsd.edu            mlhuynh@ucsd.edu   \n",
       "2       No, but I'd like to be!                          No   \n",
       "3                          True                        True   \n",
       "4                             0                           0   \n",
       "\n",
       "  confectioner.quinine.immaculate arbitral.falsehood.tracksuit  \\\n",
       "0                         Lily Yu                      Tony Ta   \n",
       "1                   alyu@ucsd.edu         tony.tta16@gmail.com   \n",
       "2                              No                           No   \n",
       "3                            True                         True   \n",
       "4                               0                            0   \n",
       "\n",
       "  undercuts.inky.drapery   rotating.snoops.groovy  \\\n",
       "0             Winston Yu      Ananay Parth Sharma   \n",
       "1          wiyu@ucsd.edu          ans037@ucsd.edu   \n",
       "2                     No  No, but I'd like to be!   \n",
       "3                   True                     True   \n",
       "4                      0                        0   \n",
       "\n",
       "  rearrangement.trills.remarked quivered.marathon.malformation  ...  \\\n",
       "0               Shashank Sistla                    Samuel Zhou  ...   \n",
       "1             shsistla@ucsd.edu                 szhou@ucsd.edu  ...   \n",
       "2       No, but I'd like to be!                             No  ...   \n",
       "3                          True                           True  ...   \n",
       "4                             0                              0  ...   \n",
       "\n",
       "  breadsticks.taster.classicist risky.overextend.locator  \\\n",
       "0             Kent Andrew Utama                Hogun Kim   \n",
       "1       kentandrew113@gmail.com          hok008@ucsd.edu   \n",
       "2                           Yes  No, but I'd like to be!   \n",
       "3                          True                    False   \n",
       "4                             1                        2   \n",
       "\n",
       "  overplaying.upbringings.snipped redoubling.nylons.tolerant  \\\n",
       "0                Stanley F Sisson         Aditi Krishnakumar   \n",
       "1               sfsisson@ucsd.edu          adkrishn@ucsd.edu   \n",
       "2                             Yes    No, but I'd like to be!   \n",
       "3                           False                      False   \n",
       "4                               2                          2   \n",
       "\n",
       "  scallop.enamel.healer moviegoing.bassist.chapter gingers.preschools.archly  \\\n",
       "0         Harsh Gurnani                Garrett Lam          Kyle MacLaughlin   \n",
       "1     hgurnani@ucsd.edu             g1lam@ucsd.edu         kmaclaug@ucsd.edu   \n",
       "2                   Yes    No, but I'd like to be!   No, but I'd like to be!   \n",
       "3                 False                      False                     False   \n",
       "4                     2                          2                         2   \n",
       "\n",
       "  botanical.sergeants.farmwork applications.hyacinths.sunbaked  \\\n",
       "0                 Shengqiu Jin                      Vincent Tu   \n",
       "1               s3jin@ucsd.edu         tuvincent0106@gmail.com   \n",
       "2                          Yes                             Yes   \n",
       "3                        False                           False   \n",
       "4                            2                               2   \n",
       "\n",
       "  exposes.frail.presidents  \n",
       "0                Meiqi Lai  \n",
       "1     meiqilai22@gmail.com  \n",
       "2  No, but I'd like to be!  \n",
       "3                    False  \n",
       "4                        2  \n",
       "\n",
       "[5 rows x 239 columns]"
      ]
     },
     "execution_count": 31,
     "metadata": {},
     "output_type": "execute_result"
    }
   ],
   "source": [
    "all_codes"
   ]
  },
  {
   "cell_type": "code",
   "execution_count": 34,
   "id": "55fdec41",
   "metadata": {},
   "outputs": [],
   "source": [
    "all_students.rename(columns={\"Hi {{field:479a780b-4131-4583-9519-9736b749a0d4}}, what's your email address?\": \"email\"}, inplace=True)"
   ]
  },
  {
   "cell_type": "code",
   "execution_count": 35,
   "id": "c6f0b08b",
   "metadata": {},
   "outputs": [
    {
     "data": {
      "text/html": [
       "<div>\n",
       "<style scoped>\n",
       "    .dataframe tbody tr th:only-of-type {\n",
       "        vertical-align: middle;\n",
       "    }\n",
       "\n",
       "    .dataframe tbody tr th {\n",
       "        vertical-align: top;\n",
       "    }\n",
       "\n",
       "    .dataframe thead th {\n",
       "        text-align: right;\n",
       "    }\n",
       "</style>\n",
       "<table border=\"1\" class=\"dataframe\">\n",
       "  <thead>\n",
       "    <tr style=\"text-align: right;\">\n",
       "      <th></th>\n",
       "      <th>First off, what's your full name?</th>\n",
       "      <th>email</th>\n",
       "      <th>What year are you?</th>\n",
       "      <th>Which sessions will you be attending?</th>\n",
       "      <th>Are you currently a DS3 Member?</th>\n",
       "      <th>Please upload your resume here.</th>\n",
       "      <th>Are you currently studying for (or already earned) your B.S. or M.S. in Data Science at UCSD?</th>\n",
       "      <th>Submitted At</th>\n",
       "      <th>Token</th>\n",
       "    </tr>\n",
       "  </thead>\n",
       "  <tbody>\n",
       "    <tr>\n",
       "      <th>0</th>\n",
       "      <td>Kent Andrew Utama</td>\n",
       "      <td>kentandrew113@gmail.com</td>\n",
       "      <td>Fourth (c/o 2023)</td>\n",
       "      <td>Both</td>\n",
       "      <td>Yes</td>\n",
       "      <td>https://api.typeform.com/responses/files/51d18...</td>\n",
       "      <td>True</td>\n",
       "      <td>9/15/2022 3:08:25</td>\n",
       "      <td>liy8d6jse2ck5ewliy8d6xotjm5jmynm</td>\n",
       "    </tr>\n",
       "    <tr>\n",
       "      <th>1</th>\n",
       "      <td>Aman Niharkumar Parikh</td>\n",
       "      <td>amparilh@ucsd.edu</td>\n",
       "      <td>Graduate Student</td>\n",
       "      <td>Both</td>\n",
       "      <td>No, but I'd like to be!</td>\n",
       "      <td>https://api.typeform.com/responses/files/512ff...</td>\n",
       "      <td>False</td>\n",
       "      <td>9/15/2022 17:18:49</td>\n",
       "      <td>bnyol4p1b7fupalstbnyoc4clbsm0a08</td>\n",
       "    </tr>\n",
       "    <tr>\n",
       "      <th>2</th>\n",
       "      <td>Quynh Le</td>\n",
       "      <td>q3le@ucsd.edu</td>\n",
       "      <td>Graduate Student</td>\n",
       "      <td>Both</td>\n",
       "      <td>No, but I'd like to be!</td>\n",
       "      <td>https://api.typeform.com/responses/files/f6372...</td>\n",
       "      <td>True</td>\n",
       "      <td>9/15/2022 17:18:57</td>\n",
       "      <td>vi6r1bpllhrnw1j6gvi6rr94gecc7iq1</td>\n",
       "    </tr>\n",
       "    <tr>\n",
       "      <th>3</th>\n",
       "      <td>Somansh Budhwar</td>\n",
       "      <td>sbudhwar@ucsd.edu</td>\n",
       "      <td>Graduate Student</td>\n",
       "      <td>In-person</td>\n",
       "      <td>No, but I'd like to be!</td>\n",
       "      <td>https://api.typeform.com/responses/files/37402...</td>\n",
       "      <td>True</td>\n",
       "      <td>9/15/2022 17:19:15</td>\n",
       "      <td>3jthz2ee98eytg3j7tv7vv9y5h3lx6x1</td>\n",
       "    </tr>\n",
       "    <tr>\n",
       "      <th>4</th>\n",
       "      <td>Sarvesh Khire</td>\n",
       "      <td>skhire@ucsd.edu</td>\n",
       "      <td>Graduate Student</td>\n",
       "      <td>In-person</td>\n",
       "      <td>No, but I'd like to be!</td>\n",
       "      <td>https://api.typeform.com/responses/files/befde...</td>\n",
       "      <td>True</td>\n",
       "      <td>9/15/2022 17:19:22</td>\n",
       "      <td>abbhdwbweq8atvaj4abbhdwbe4ehs9gr</td>\n",
       "    </tr>\n",
       "    <tr>\n",
       "      <th>...</th>\n",
       "      <td>...</td>\n",
       "      <td>...</td>\n",
       "      <td>...</td>\n",
       "      <td>...</td>\n",
       "      <td>...</td>\n",
       "      <td>...</td>\n",
       "      <td>...</td>\n",
       "      <td>...</td>\n",
       "      <td>...</td>\n",
       "    </tr>\n",
       "    <tr>\n",
       "      <th>280</th>\n",
       "      <td>Han Hoang</td>\n",
       "      <td>gihoang@ucsd.edu</td>\n",
       "      <td>Third (c/o 2024)</td>\n",
       "      <td>Both</td>\n",
       "      <td>Yes</td>\n",
       "      <td>https://api.typeform.com/responses/files/f8130...</td>\n",
       "      <td>True</td>\n",
       "      <td>10/11/2022 18:59:49</td>\n",
       "      <td>1z19xc6r20mzhfx7hnx1k1z19xcfzs86</td>\n",
       "    </tr>\n",
       "    <tr>\n",
       "      <th>281</th>\n",
       "      <td>Mariana Paco Mendivil</td>\n",
       "      <td>mpacomendivil@ucsd.edu</td>\n",
       "      <td>Second (c/o 2025)</td>\n",
       "      <td>Both</td>\n",
       "      <td>No, but I'd like to be!</td>\n",
       "      <td>https://api.typeform.com/responses/files/8e80d...</td>\n",
       "      <td>True</td>\n",
       "      <td>10/11/2022 18:59:59</td>\n",
       "      <td>zwc5d6z3tmu5age362wzwc5dl45d0bty</td>\n",
       "    </tr>\n",
       "    <tr>\n",
       "      <th>282</th>\n",
       "      <td>Hogun Kim</td>\n",
       "      <td>hok008@ucsd.edu</td>\n",
       "      <td>First (c/o 2026)</td>\n",
       "      <td>Both</td>\n",
       "      <td>No, but I'd like to be!</td>\n",
       "      <td>https://api.typeform.com/responses/files/ed0e4...</td>\n",
       "      <td>False</td>\n",
       "      <td>10/11/2022 19:00:09</td>\n",
       "      <td>8qqddl8l09gnv1dtb068qqukbh06f2nd</td>\n",
       "    </tr>\n",
       "    <tr>\n",
       "      <th>283</th>\n",
       "      <td>Emily Rebecca Mary Wurst</td>\n",
       "      <td>ewurst@ucsd.edu</td>\n",
       "      <td>Graduate Student</td>\n",
       "      <td>Both</td>\n",
       "      <td>Yes</td>\n",
       "      <td>https://api.typeform.com/responses/files/ba79d...</td>\n",
       "      <td>True</td>\n",
       "      <td>10/11/2022 19:21:47</td>\n",
       "      <td>sc8vroy65menavqn60vsc8vrwwkjwmef</td>\n",
       "    </tr>\n",
       "    <tr>\n",
       "      <th>284</th>\n",
       "      <td>Saachi Shenoy</td>\n",
       "      <td>svshenoy@ucsd.edu</td>\n",
       "      <td>Third (c/o 2024)</td>\n",
       "      <td>Both</td>\n",
       "      <td>No, but I'd like to be!</td>\n",
       "      <td>https://api.typeform.com/responses/files/9553e...</td>\n",
       "      <td>True</td>\n",
       "      <td>10/11/2022 19:51:46</td>\n",
       "      <td>d78s40ap0saltv0d78scc3vgzkhpojuu</td>\n",
       "    </tr>\n",
       "  </tbody>\n",
       "</table>\n",
       "<p>285 rows × 9 columns</p>\n",
       "</div>"
      ],
      "text/plain": [
       "    First off, what's your full name?                    email  \\\n",
       "0                   Kent Andrew Utama  kentandrew113@gmail.com   \n",
       "1              Aman Niharkumar Parikh        amparilh@ucsd.edu   \n",
       "2                            Quynh Le            q3le@ucsd.edu   \n",
       "3                     Somansh Budhwar        sbudhwar@ucsd.edu   \n",
       "4                       Sarvesh Khire          skhire@ucsd.edu   \n",
       "..                                ...                      ...   \n",
       "280                         Han Hoang         gihoang@ucsd.edu   \n",
       "281             Mariana Paco Mendivil   mpacomendivil@ucsd.edu   \n",
       "282                         Hogun Kim          hok008@ucsd.edu   \n",
       "283          Emily Rebecca Mary Wurst          ewurst@ucsd.edu   \n",
       "284                     Saachi Shenoy        svshenoy@ucsd.edu   \n",
       "\n",
       "    What year are you? Which sessions will you be attending?  \\\n",
       "0    Fourth (c/o 2023)                                  Both   \n",
       "1     Graduate Student                                  Both   \n",
       "2     Graduate Student                                  Both   \n",
       "3     Graduate Student                             In-person   \n",
       "4     Graduate Student                             In-person   \n",
       "..                 ...                                   ...   \n",
       "280   Third (c/o 2024)                                  Both   \n",
       "281  Second (c/o 2025)                                  Both   \n",
       "282   First (c/o 2026)                                  Both   \n",
       "283   Graduate Student                                  Both   \n",
       "284   Third (c/o 2024)                                  Both   \n",
       "\n",
       "    Are you currently a DS3 Member?  \\\n",
       "0                               Yes   \n",
       "1           No, but I'd like to be!   \n",
       "2           No, but I'd like to be!   \n",
       "3           No, but I'd like to be!   \n",
       "4           No, but I'd like to be!   \n",
       "..                              ...   \n",
       "280                             Yes   \n",
       "281         No, but I'd like to be!   \n",
       "282         No, but I'd like to be!   \n",
       "283                             Yes   \n",
       "284         No, but I'd like to be!   \n",
       "\n",
       "                       Please upload your resume here.  \\\n",
       "0    https://api.typeform.com/responses/files/51d18...   \n",
       "1    https://api.typeform.com/responses/files/512ff...   \n",
       "2    https://api.typeform.com/responses/files/f6372...   \n",
       "3    https://api.typeform.com/responses/files/37402...   \n",
       "4    https://api.typeform.com/responses/files/befde...   \n",
       "..                                                 ...   \n",
       "280  https://api.typeform.com/responses/files/f8130...   \n",
       "281  https://api.typeform.com/responses/files/8e80d...   \n",
       "282  https://api.typeform.com/responses/files/ed0e4...   \n",
       "283  https://api.typeform.com/responses/files/ba79d...   \n",
       "284  https://api.typeform.com/responses/files/9553e...   \n",
       "\n",
       "     Are you currently studying for (or already earned) your B.S. or M.S. in Data Science at UCSD?  \\\n",
       "0                                                 True                                               \n",
       "1                                                False                                               \n",
       "2                                                 True                                               \n",
       "3                                                 True                                               \n",
       "4                                                 True                                               \n",
       "..                                                 ...                                               \n",
       "280                                               True                                               \n",
       "281                                               True                                               \n",
       "282                                              False                                               \n",
       "283                                               True                                               \n",
       "284                                               True                                               \n",
       "\n",
       "            Submitted At                             Token  \n",
       "0      9/15/2022 3:08:25  liy8d6jse2ck5ewliy8d6xotjm5jmynm  \n",
       "1     9/15/2022 17:18:49  bnyol4p1b7fupalstbnyoc4clbsm0a08  \n",
       "2     9/15/2022 17:18:57  vi6r1bpllhrnw1j6gvi6rr94gecc7iq1  \n",
       "3     9/15/2022 17:19:15  3jthz2ee98eytg3j7tv7vv9y5h3lx6x1  \n",
       "4     9/15/2022 17:19:22  abbhdwbweq8atvaj4abbhdwbe4ehs9gr  \n",
       "..                   ...                               ...  \n",
       "280  10/11/2022 18:59:49  1z19xc6r20mzhfx7hnx1k1z19xcfzs86  \n",
       "281  10/11/2022 18:59:59  zwc5d6z3tmu5age362wzwc5dl45d0bty  \n",
       "282  10/11/2022 19:00:09  8qqddl8l09gnv1dtb068qqukbh06f2nd  \n",
       "283  10/11/2022 19:21:47  sc8vroy65menavqn60vsc8vrwwkjwmef  \n",
       "284  10/11/2022 19:51:46  d78s40ap0saltv0d78scc3vgzkhpojuu  \n",
       "\n",
       "[285 rows x 9 columns]"
      ]
     },
     "execution_count": 35,
     "metadata": {},
     "output_type": "execute_result"
    }
   ],
   "source": [
    "all_students"
   ]
  },
  {
   "cell_type": "code",
   "execution_count": 62,
   "id": "e751e30a",
   "metadata": {},
   "outputs": [
    {
     "name": "stderr",
     "output_type": "stream",
     "text": [
      "--2022-10-17 13:33:05--  https://api.typeform.com/responses/files/1c0a4fdd67017d3ff2805726d58e94704ebc9734cbe1f59a06b2921429961b8a/CS_DSC_Resume_10_22___Google_Docs.pdf\n",
      "Resolving api.typeform.com (api.typeform.com)... 54.160.99.46, 44.193.158.32, 54.144.182.22\n",
      "Connecting to api.typeform.com (api.typeform.com)|54.160.99.46|:443... connected.\n",
      "HTTP request sent, awaiting response... 200 OK\n",
      "Length: unspecified [application/pdf]\n",
      "Saving to: ‘./resumes/CS_DSC_Resume_10_22___Google_Docs.pdf’\n",
      "\n",
      "     0K .......... .......... .......... .......... ........    604K=0.08s\n",
      "\n",
      "2022-10-17 13:33:06 (604 KB/s) - ‘./resumes/CS_DSC_Resume_10_22___Google_Docs.pdf’ saved [49501]\n",
      "\n",
      "--2022-10-17 13:33:06--  https://api.typeform.com/responses/files/f81305cd6f51bdd9add1522911fd4a5c362334fd12a8722b87f292774216c3ef/Resume_Han_Hoang.pdf\n",
      "Resolving api.typeform.com (api.typeform.com)... 44.193.158.32, 54.144.182.22, 54.160.99.46\n",
      "Connecting to api.typeform.com (api.typeform.com)|44.193.158.32|:443... "
     ]
    },
    {
     "name": "stdout",
     "output_type": "stream",
     "text": [
      "Resume for etl003@ucsd.edu downloaded.\n"
     ]
    },
    {
     "name": "stderr",
     "output_type": "stream",
     "text": [
      "connected.\n",
      "HTTP request sent, awaiting response... 200 OK\n",
      "Length: unspecified [application/pdf]\n",
      "Saving to: ‘./resumes/Resume_Han_Hoang.pdf’\n",
      "\n",
      "     0K .......... .......... .......... .......... ..........  629K\n",
      "    50K .......... .......... .......... .......... ..........  627K\n",
      "   100K .......... .......                                     37.2M=0.2s\n",
      "\n",
      "2022-10-17 13:33:07 (734 KB/s) - ‘./resumes/Resume_Han_Hoang.pdf’ saved [119911]\n",
      "\n",
      "--2022-10-17 13:33:07--  https://api.typeform.com/responses/files/2b1d7f6ebfb836fa5407b8e09a6b93c5cbcec3dac660bee5cd896ffa6ad06215/luke_taylor_resume.pdf\n"
     ]
    },
    {
     "name": "stdout",
     "output_type": "stream",
     "text": [
      "Resume for gihoang@ucsd.edu downloaded.\n"
     ]
    },
    {
     "name": "stderr",
     "output_type": "stream",
     "text": [
      "Resolving api.typeform.com (api.typeform.com)... 54.144.182.22, 44.193.158.32, 54.160.99.46\n",
      "Connecting to api.typeform.com (api.typeform.com)|54.144.182.22|:443... connected.\n",
      "HTTP request sent, awaiting response... 200 OK\n",
      "Length: unspecified [application/pdf]\n",
      "Saving to: ‘./resumes/luke_taylor_resume.pdf’\n",
      "\n",
      "     0K .......... .......... .......... .......... ..........  284K\n",
      "    50K .......... .......... .......... .......... .......... 8.91M\n",
      "   100K ..                                                     58.6K=0.2s\n",
      "\n",
      "2022-10-17 13:33:08 (566 KB/s) - ‘./resumes/luke_taylor_resume.pdf’ saved [105402]\n",
      "\n"
     ]
    },
    {
     "name": "stdout",
     "output_type": "stream",
     "text": [
      "Resume for lwtaylor@ucsd.edu downloaded.\n"
     ]
    },
    {
     "name": "stderr",
     "output_type": "stream",
     "text": [
      "--2022-10-17 13:33:08--  https://api.typeform.com/responses/files/079e3675f5f4e342503631e4ff78aaeec237d7f68e3de036c7da3b15623294a8/Jake_Ryan_Resume_9_19.pdf\n",
      "Resolving api.typeform.com (api.typeform.com)... 44.193.158.32, 54.144.182.22, 54.160.99.46\n",
      "Connecting to api.typeform.com (api.typeform.com)|44.193.158.32|:443... connected.\n",
      "HTTP request sent, awaiting response... 200 OK\n",
      "Length: unspecified [application/pdf]\n",
      "Saving to: ‘./resumes/Jake_Ryan_Resume_9_19.pdf’\n",
      "\n",
      "     0K .......... .......... .......... .......... ..........  585K\n",
      "    50K .......... .......                                     71.5M=0.09s\n",
      "\n",
      "2022-10-17 13:33:08 (791 KB/s) - ‘./resumes/Jake_Ryan_Resume_9_19.pdf’ saved [69425]\n",
      "\n",
      "--2022-10-17 13:33:08--  https://api.typeform.com/responses/files/83a349d41d726c946011f3706e40378aa1dae2612aab8d4213094742c7bf4501/SeanNgResume.pdf\n",
      "Resolving api.typeform.com (api.typeform.com)... 44.193.158.32, 54.144.182.22, 54.160.99.46\n",
      "Connecting to api.typeform.com (api.typeform.com)|44.193.158.32|:443... "
     ]
    },
    {
     "name": "stdout",
     "output_type": "stream",
     "text": [
      "Resume for jmryan@ucsd.edu downloaded.\n"
     ]
    },
    {
     "name": "stderr",
     "output_type": "stream",
     "text": [
      "connected.\n",
      "HTTP request sent, awaiting response... 200 OK\n",
      "Length: unspecified [application/pdf]\n",
      "Saving to: ‘./resumes/SeanNgResume.pdf’\n",
      "\n",
      "     0K .......... .......... .......... .......... ..........  651K\n",
      "    50K .......... .......... ......                           61.9M=0.08s\n",
      "\n",
      "2022-10-17 13:33:09 (990 KB/s) - ‘./resumes/SeanNgResume.pdf’ saved [78250]\n",
      "\n",
      "--2022-10-17 13:33:09--  https://api.typeform.com/responses/files/1996ce028ff47fc910842fabde2bbf09feebbb6e6471a4009396fe4b15c8b255/Resume__2022_.pdf\n",
      "Resolving api.typeform.com (api.typeform.com)... 44.193.158.32, 54.144.182.22, 54.160.99.46\n",
      "Connecting to api.typeform.com (api.typeform.com)|44.193.158.32|:443... "
     ]
    },
    {
     "name": "stdout",
     "output_type": "stream",
     "text": [
      "Resume for snng@ucsd.edu downloaded.\n"
     ]
    },
    {
     "name": "stderr",
     "output_type": "stream",
     "text": [
      "connected.\n",
      "HTTP request sent, awaiting response... 200 OK\n",
      "Length: unspecified [application/pdf]\n",
      "Saving to: ‘./resumes/Resume__2022_.pdf’\n",
      "\n",
      "     0K .......... .......... .......... ..                     143K=0.2s\n",
      "\n",
      "2022-10-17 13:33:10 (143 KB/s) - ‘./resumes/Resume__2022_.pdf’ saved [32996]\n",
      "\n",
      "--2022-10-17 13:33:10--  https://api.typeform.com/responses/files/26874f76e11eb03237f3423c765210d46698d977ca2177864864efc399b5ef0f/Fnu_Kalkin_Resume.pdf\n",
      "Resolving api.typeform.com (api.typeform.com)... 44.193.158.32, 54.144.182.22, 54.160.99.46\n",
      "Connecting to api.typeform.com (api.typeform.com)|44.193.158.32|:443... connected.\n"
     ]
    },
    {
     "name": "stdout",
     "output_type": "stream",
     "text": [
      "Resume for kmaclaug@ucsd.edu downloaded.\n"
     ]
    },
    {
     "name": "stderr",
     "output_type": "stream",
     "text": [
      "HTTP request sent, awaiting response... 200 OK\n",
      "Length: unspecified [application/pdf]\n",
      "Saving to: ‘./resumes/Fnu_Kalkin_Resume.pdf’\n",
      "\n",
      "     0K .......... .......... .......... .......... ..........  610K\n",
      "    50K .......... .......... .......... .......... ..........  173K\n",
      "   100K .......... .......... .......... .......... .......... 69.7K\n",
      "   150K .......... .......... .......... .......... ..........  153K\n",
      "   200K .......... .                                            138M=1.4s\n",
      "\n",
      "2022-10-17 13:33:12 (150 KB/s) - ‘./resumes/Fnu_Kalkin_Resume.pdf’ saved [216666]\n",
      "\n",
      "--2022-10-17 13:33:12--  https://api.typeform.com/responses/files/d071057f95aee53399e586aba9f43747ac959e4116f575d23a283decaba0da41/Screenshot_2022_09_15_15_35_31_201_com.google.android.apps.docs.jpg\n",
      "Resolving api.typeform.com (api.typeform.com)... 44.193.158.32, 54.144.182.22, 54.160.99.46\n",
      "Connecting to api.typeform.com (api.typeform.com)|44.193.158.32|:443... connected.\n"
     ]
    },
    {
     "name": "stdout",
     "output_type": "stream",
     "text": [
      "Resume for fkalkin@ucsd.edu downloaded.\n"
     ]
    },
    {
     "name": "stderr",
     "output_type": "stream",
     "text": [
      "HTTP request sent, awaiting response... 200 OK\n",
      "Length: unspecified [image/jpeg]\n",
      "Saving to: ‘./resumes/Screenshot_2022_09_15_15_35_31_201_com.google.android.apps.docs.jpg’\n",
      "\n",
      "     0K .......... .......... .......... .......... ..........  591K\n",
      "    50K .......... .......... .......... .......... ..........  618K\n",
      "   100K .......... .......... .......... .......... .......... 23.5M\n",
      "   150K .......... .......... .......... .......... .......... 11.0M\n",
      "   200K .......... .......... .......... .......... ..........  693K\n",
      "   250K .......... .......... .......... .......... .......... 17.3M\n",
      "   300K .......... .......... .......... .......... .......... 23.5M\n",
      "   350K .......... .......... .......... .......... .......... 8.64M\n",
      "   400K .......... .......... .......... .......... .......... 95.7K\n",
      "   450K .......... .......... .......... .......... .....       122M=0.8s\n",
      "\n",
      "2022-10-17 13:33:14 (637 KB/s) - ‘./resumes/Screenshot_2022_09_15_15_35_31_201_com.google.android.apps.docs.jpg’ saved [507137]\n",
      "\n",
      "--2022-10-17 13:33:14--  https://api.typeform.com/responses/files/374020572aca810a69039ac81a9630283b6bbf0ee6704e04e9bfe3fe362a3385/Somansh_Budhwar_Resume.PDF\n",
      "Resolving api.typeform.com (api.typeform.com)... 44.193.158.32, 54.144.182.22, 54.160.99.46\n",
      "Connecting to api.typeform.com (api.typeform.com)|44.193.158.32|:443... "
     ]
    },
    {
     "name": "stdout",
     "output_type": "stream",
     "text": [
      "Resume for m6sharma@ucsd.edu downloaded.\n"
     ]
    },
    {
     "name": "stderr",
     "output_type": "stream",
     "text": [
      "connected.\n",
      "HTTP request sent, awaiting response... 200 OK\n",
      "Length: unspecified [application/pdf]\n",
      "Saving to: ‘./resumes/Somansh_Budhwar_Resume.PDF’\n",
      "\n",
      "     0K .......... .......... .......... .......... ..........  517K\n",
      "    50K .......... .......... .......... .......... ...         125K=0.4s\n",
      "\n",
      "2022-10-17 13:33:16 (210 KB/s) - ‘./resumes/Somansh_Budhwar_Resume.PDF’ saved [96242]\n",
      "\n",
      "--2022-10-17 13:33:16--  https://api.typeform.com/responses/files/312aa002d99a9195e7cb86457a4f3e7e80cab6ab4c0528325f42ea62b1f46a3b/KartikayAnand_Resume.pdf\n",
      "Resolving api.typeform.com (api.typeform.com)... 44.193.158.32, 54.144.182.22, 54.160.99.46\n",
      "Connecting to api.typeform.com (api.typeform.com)|44.193.158.32|:443... connected.\n"
     ]
    },
    {
     "name": "stdout",
     "output_type": "stream",
     "text": [
      "Resume for sbudhwar@ucsd.edu downloaded.\n"
     ]
    },
    {
     "name": "stderr",
     "output_type": "stream",
     "text": [
      "HTTP request sent, awaiting response... 200 OK\n",
      "Length: unspecified [application/pdf]\n",
      "Saving to: ‘./resumes/KartikayAnand_Resume.pdf’\n",
      "\n",
      "     0K .......... .......... .......... .......... ..........  445K\n",
      "    50K .......... .......... .......... .......... ..........  116K\n",
      "   100K .........                                              48.6M=0.5s\n",
      "\n",
      "2022-10-17 13:33:18 (203 KB/s) - ‘./resumes/KartikayAnand_Resume.pdf’ saved [112543]\n",
      "\n",
      "--2022-10-17 13:33:18--  https://api.typeform.com/responses/files/5cf792cca1dec755d8e5bee19c6116c3de9f4472915cc343eecd9dbfc655dc8c/resume.pdf\n",
      "Resolving api.typeform.com (api.typeform.com)... 44.193.158.32, 54.144.182.22, 54.160.99.46\n",
      "Connecting to api.typeform.com (api.typeform.com)|44.193.158.32|:443... "
     ]
    },
    {
     "name": "stdout",
     "output_type": "stream",
     "text": [
      "Resume for kaanand@ucsd.edu downloaded.\n"
     ]
    },
    {
     "name": "stderr",
     "output_type": "stream",
     "text": [
      "connected.\n",
      "HTTP request sent, awaiting response... 200 OK\n",
      "Length: unspecified [application/pdf]\n",
      "Saving to: ‘./resumes/resume.pdf’\n",
      "\n",
      "     0K .......... .......... .......... .......... ..........  642K\n",
      "    50K .......... .......... .......... .......... ..........  564K\n",
      "   100K .......... .......... .......... .......... ..........  178K\n",
      "   150K .......... .......... ....                              118M=0.4s\n",
      "\n",
      "2022-10-17 13:33:19 (389 KB/s) - ‘./resumes/resume.pdf’ saved [178417]\n",
      "\n",
      "--2022-10-17 13:33:19--  https://api.typeform.com/responses/files/9703f963c9004e130a389dacdddfcfdd29a1419fcc44f3c3be8341dee7c97a4f/Sujen_Resume_2nd_year.pdf\n",
      "Resolving api.typeform.com (api.typeform.com)... 44.193.158.32, 54.144.182.22, 54.160.99.46\n",
      "Connecting to api.typeform.com (api.typeform.com)|44.193.158.32|:443... connected.\n"
     ]
    },
    {
     "name": "stdout",
     "output_type": "stream",
     "text": [
      "Resume for zluo@ucsd.edu downloaded.\n"
     ]
    },
    {
     "name": "stderr",
     "output_type": "stream",
     "text": [
      "HTTP request sent, awaiting response... 200 OK\n",
      "Length: unspecified [application/pdf]\n",
      "Saving to: ‘./resumes/Sujen_Resume_2nd_year.pdf’\n",
      "\n",
      "     0K .......... .......... .......... .......... ..........  608K\n",
      "    50K .........                                              52.6M=0.08s\n",
      "\n",
      "2022-10-17 13:33:20 (723 KB/s) - ‘./resumes/Sujen_Resume_2nd_year.pdf’ saved [60963]\n",
      "\n",
      "--2022-10-17 13:33:20--  https://api.typeform.com/responses/files/6f72fdf197cdfca8a8b627af7322187ca411ee914d63597d4340a04e6a678451/Ciolli_Resume_DSC.pdf\n",
      "Resolving api.typeform.com (api.typeform.com)... 44.193.158.32, 54.144.182.22, 54.160.99.46\n",
      "Connecting to api.typeform.com (api.typeform.com)|44.193.158.32|:443... "
     ]
    },
    {
     "name": "stdout",
     "output_type": "stream",
     "text": [
      "Resume for skancherla@ucsd.edu downloaded.\n"
     ]
    },
    {
     "name": "stderr",
     "output_type": "stream",
     "text": [
      "connected.\n",
      "HTTP request sent, awaiting response... 200 OK\n",
      "Length: unspecified [application/pdf]\n",
      "Saving to: ‘./resumes/Ciolli_Resume_DSC.pdf’\n",
      "\n",
      "     0K .......... .......... .......... .......... ..........  578K\n",
      "    50K .......... .......... .......... .......... ..........  653K\n",
      "   100K .......... .......... ......                           23.7M=0.2s\n",
      "\n",
      "2022-10-17 13:33:22 (771 KB/s) - ‘./resumes/Ciolli_Resume_DSC.pdf’ saved [129629]\n",
      "\n",
      "--2022-10-17 13:33:22--  https://api.typeform.com/responses/files/6f72fdf197cdfca8a8b627af7322187ca411ee914d63597d4340a04e6a678451/Ciolli_Resume_DSC.pdf\n"
     ]
    },
    {
     "name": "stdout",
     "output_type": "stream",
     "text": [
      "Resume for ociolli@ucsd.edu downloaded.\n"
     ]
    },
    {
     "name": "stderr",
     "output_type": "stream",
     "text": [
      "Resolving api.typeform.com (api.typeform.com)... 44.193.158.32, 54.144.182.22, 54.160.99.46\n",
      "Connecting to api.typeform.com (api.typeform.com)|44.193.158.32|:443... connected.\n",
      "HTTP request sent, awaiting response... 200 OK\n",
      "Length: unspecified [application/pdf]\n",
      "Saving to: ‘./resumes/Ciolli_Resume_DSC.pdf.1’\n",
      "\n",
      "     0K .......... .......... .......... .......... ..........  547K\n",
      "    50K .......... .......... .......... .......... ..........  668K\n",
      "   100K .......... .......... ......                           1.40M=0.2s\n",
      "\n",
      "2022-10-17 13:33:23 (685 KB/s) - ‘./resumes/Ciolli_Resume_DSC.pdf.1’ saved [129629]\n",
      "\n"
     ]
    },
    {
     "name": "stdout",
     "output_type": "stream",
     "text": [
      "Resume for ociolli@ucsd.edu downloaded.\n"
     ]
    },
    {
     "name": "stderr",
     "output_type": "stream",
     "text": [
      "--2022-10-17 13:33:23--  https://api.typeform.com/responses/files/befde8af5f1c39216abf102dd7bd41041075f4243d816dc8ad62899ec3af7765/sarveshkhire_resume.pdf\n",
      "Resolving api.typeform.com (api.typeform.com)... 44.193.158.32, 54.144.182.22, 54.160.99.46\n",
      "Connecting to api.typeform.com (api.typeform.com)|44.193.158.32|:443... connected.\n",
      "HTTP request sent, awaiting response... 200 OK\n",
      "Length: unspecified [application/pdf]\n",
      "Saving to: ‘./resumes/sarveshkhire_resume.pdf’\n",
      "\n",
      "     0K .......... .......... .......... .......... ..........  656K\n",
      "    50K ....                                                   83.8K=0.08s\n",
      "\n",
      "2022-10-17 13:33:24 (711 KB/s) - ‘./resumes/sarveshkhire_resume.pdf’ saved [55491]\n",
      "\n",
      "--2022-10-17 13:33:24--  https://api.typeform.com/responses/files/5233a68529b8a58bda71c25edeb6524754bbd28a0b79d9b4cdae86b8e09817da/Golokesh_Patra_Resume_UCSD.pdf\n",
      "Resolving api.typeform.com (api.typeform.com)... 44.193.158.32, 54.144.182.22, 54.160.99.46\n",
      "Connecting to api.typeform.com (api.typeform.com)|44.193.158.32|:443... "
     ]
    },
    {
     "name": "stdout",
     "output_type": "stream",
     "text": [
      "Resume for skhire@ucsd.edu downloaded.\n"
     ]
    },
    {
     "name": "stderr",
     "output_type": "stream",
     "text": [
      "connected.\n",
      "HTTP request sent, awaiting response... 200 OK\n",
      "Length: unspecified [application/pdf]\n",
      "Saving to: ‘./resumes/Golokesh_Patra_Resume_UCSD.pdf’\n",
      "\n",
      "     0K .......... .......... .......... .......... ..........  556K\n",
      "    50K .......... .......... .......... .......... ..........  481K\n",
      "   100K .......... .......... .......... .......... ......     13.2M=0.2s\n",
      "\n",
      "2022-10-17 13:33:25 (741 KB/s) - ‘./resumes/Golokesh_Patra_Resume_UCSD.pdf’ saved [149803]\n",
      "\n"
     ]
    },
    {
     "name": "stdout",
     "output_type": "stream",
     "text": [
      "Resume for gpatra@ucsd.edu downloaded.\n"
     ]
    },
    {
     "name": "stderr",
     "output_type": "stream",
     "text": [
      "--2022-10-17 13:33:25--  https://api.typeform.com/responses/files/f6372b53303f0411e0984c4dcdfc655a55f531de1dae06eee027b4248d5d6f1b/quynhle_cv.pdf\n",
      "Resolving api.typeform.com (api.typeform.com)... 44.193.158.32, 54.144.182.22, 54.160.99.46\n",
      "Connecting to api.typeform.com (api.typeform.com)|44.193.158.32|:443... connected.\n",
      "HTTP request sent, awaiting response... 200 OK\n",
      "Length: unspecified [application/pdf]\n",
      "Saving to: ‘./resumes/quynhle_cv.pdf’\n",
      "\n",
      "     0K .......... .......... .......... .......... ..........  635K\n",
      "    50K .......... .......... ........                         21.7M=0.08s\n",
      "\n",
      "2022-10-17 13:33:25 (980 KB/s) - ‘./resumes/quynhle_cv.pdf’ saved [80306]\n",
      "\n",
      "--2022-10-17 13:33:25--  https://api.typeform.com/responses/files/30b9d91247b336544f60a4ee6f9de9a65568df405720743ac0bba9475140756a/RuihanWang_for_Data_Scientist_internship__UCSD.pdf\n",
      "Resolving api.typeform.com (api.typeform.com)... 44.193.158.32, 54.144.182.22, 54.160.99.46\n",
      "Connecting to api.typeform.com (api.typeform.com)|44.193.158.32|:443... "
     ]
    },
    {
     "name": "stdout",
     "output_type": "stream",
     "text": [
      "Resume for q3le@ucsd.edu downloaded.\n"
     ]
    },
    {
     "name": "stderr",
     "output_type": "stream",
     "text": [
      "connected.\n",
      "HTTP request sent, awaiting response... 200 OK\n",
      "Length: unspecified [application/pdf]\n",
      "Saving to: ‘./resumes/RuihanWang_for_Data_Scientist_internship__UCSD.pdf’\n",
      "\n",
      "     0K .......... .......... .......... .......... ..........  657K\n",
      "    50K .......... .......... .......... .......... ..........  668K\n",
      "   100K .......... .......... .......... .......... ..........  367K\n",
      "   150K .......... .......... .......... .......... ..........  270K\n",
      "   200K .......... .......... .......... .....                 86.6M=0.5s\n",
      "\n",
      "2022-10-17 13:33:27 (497 KB/s) - ‘./resumes/RuihanWang_for_Data_Scientist_internship__UCSD.pdf’ saved [240672]\n",
      "\n"
     ]
    },
    {
     "name": "stdout",
     "output_type": "stream",
     "text": [
      "Resume for ruihanw@ucsd.edu downloaded.\n"
     ]
    },
    {
     "name": "stderr",
     "output_type": "stream",
     "text": [
      "--2022-10-17 13:33:27--  https://api.typeform.com/responses/files/c1ded7a1e4c340c664f2d919857b82e4ac84c0769abf81dc6a5a270d30a3146c/GLI_Resume.pdf\n",
      "Resolving api.typeform.com (api.typeform.com)... 44.193.158.32, 54.144.182.22, 54.160.99.46\n",
      "Connecting to api.typeform.com (api.typeform.com)|44.193.158.32|:443... connected.\n",
      "HTTP request sent, awaiting response... 200 OK\n",
      "Length: unspecified [application/pdf]\n",
      "Saving to: ‘./resumes/GLI_Resume.pdf’\n",
      "\n",
      "     0K .......... .......... .......... .......... ..........  414K\n",
      "    50K .....                                                   109K=0.1s\n",
      "\n",
      "2022-10-17 13:33:27 (460 KB/s) - ‘./resumes/GLI_Resume.pdf’ saved [56768]\n",
      "\n",
      "--2022-10-17 13:33:27--  https://api.typeform.com/responses/files/6f421da690daf3e9660762df28d5776381607bde926c36d5f6a3406fbb3c1d55/CV_Research.pdf\n",
      "Resolving api.typeform.com (api.typeform.com)... 44.193.158.32, 54.144.182.22, 54.160.99.46\n",
      "Connecting to api.typeform.com (api.typeform.com)|44.193.158.32|:443... "
     ]
    },
    {
     "name": "stdout",
     "output_type": "stream",
     "text": [
      "Resume for gjl001@ucsd.edu downloaded.\n"
     ]
    },
    {
     "name": "stderr",
     "output_type": "stream",
     "text": [
      "connected.\n",
      "HTTP request sent, awaiting response... 200 OK\n",
      "Length: unspecified [application/pdf]\n",
      "Saving to: ‘./resumes/CV_Research.pdf’\n",
      "\n",
      "     0K .......... .......... .......... .......... ..........  624K\n",
      "    50K .......... .......... .......... .......... ..........  611K\n",
      "   100K .......... .......... .......... ......                 262K=0.3s\n",
      "\n",
      "2022-10-17 13:33:29 (454 KB/s) - ‘./resumes/CV_Research.pdf’ saved [139356]\n",
      "\n",
      "--2022-10-17 13:33:29--  https://api.typeform.com/responses/files/220d98d669bfb61a7480553e520d68d281e56cbd134397732bfb0c4cda22e618/Final_draft_Resume_datascience_Harin.pdf\n",
      "Resolving api.typeform.com (api.typeform.com)... 44.193.158.32, 54.144.182.22, 54.160.99.46\n",
      "Connecting to api.typeform.com (api.typeform.com)|44.193.158.32|:443... connected.\n"
     ]
    },
    {
     "name": "stdout",
     "output_type": "stream",
     "text": [
      "Resume for dal034@ucsd.edu downloaded.\n"
     ]
    },
    {
     "name": "stderr",
     "output_type": "stream",
     "text": [
      "HTTP request sent, awaiting response... 200 OK\n",
      "Length: unspecified [application/pdf]\n",
      "Saving to: ‘./resumes/Final_draft_Resume_datascience_Harin.pdf’\n",
      "\n",
      "     0K .......... .......... .......... .......... ..........  505K\n",
      "    50K .......... .......... .......... .......... ..........  612K\n",
      "   100K .......... .......... .......... .......... ..........  399K\n",
      "   150K .......... .......... .......... .......... ..........  654K\n",
      "   200K .......... .......... .......... .......... ..........  540K\n",
      "   250K .......... .......... .......... .......... ..........  608K\n",
      "   300K .......... .......... .......... .......... ..........  658K\n",
      "   350K .......... .......... .......... .......... ..........  621K\n",
      "   400K .......... .......... .......... .......... ..........  195K\n",
      "   450K .......... .......... .......... .......... ..........  290K\n",
      "   500K .......... .......... .......... .......... .......... 9.47M\n",
      "   550K .......... .......... .......... .......... ..........  240K\n",
      "   600K .......... .......... .......... .......... ..........  658K\n",
      "   650K .......... .......... .......... .......... ..........  460K\n",
      "   700K .......... .......... .......... .......... ......     1.36M=1.6s\n",
      "\n",
      "2022-10-17 13:33:31 (474 KB/s) - ‘./resumes/Final_draft_Resume_datascience_Harin.pdf’ saved [764683]\n",
      "\n",
      "--2022-10-17 13:33:31--  https://api.typeform.com/responses/files/fa4e11861017ad7c576610fcf4a2b41cd915dba7853654a24b49bc2a92963721/jacqueline_lee_resume_hdsi.pdf\n",
      "Resolving api.typeform.com (api.typeform.com)... 44.193.158.32, 54.144.182.22, 54.160.99.46\n",
      "Connecting to api.typeform.com (api.typeform.com)|44.193.158.32|:443... "
     ]
    },
    {
     "name": "stdout",
     "output_type": "stream",
     "text": [
      "Resume for hradhakrishnan@ucsd.edu downloaded.\n"
     ]
    },
    {
     "name": "stderr",
     "output_type": "stream",
     "text": [
      "connected.\n",
      "HTTP request sent, awaiting response... 200 OK\n",
      "Length: unspecified [application/pdf]\n",
      "Saving to: ‘./resumes/jacqueline_lee_resume_hdsi.pdf’\n",
      "\n",
      "     0K .......... .......... .......... .......... ..........  622K\n",
      "    50K .......... .......... .......... .......... ..........  589K\n",
      "   100K .......... .......... .......... .......... ..........  641K\n",
      "   150K .......... ........                                    29.2M=0.2s\n",
      "\n",
      "2022-10-17 13:33:32 (690 KB/s) - ‘./resumes/jacqueline_lee_resume_hdsi.pdf’ saved [172403]\n",
      "\n",
      "--2022-10-17 13:33:32--  https://api.typeform.com/responses/files/283ff9f8085326c55ac3bc393d959ddf103075d2bd580818592ba3375dd6daa1/ResumeLatest.pdf\n",
      "Resolving api.typeform.com (api.typeform.com)... 44.193.158.32, 54.144.182.22, 54.160.99.46\n",
      "Connecting to api.typeform.com (api.typeform.com)|44.193.158.32|:443... "
     ]
    },
    {
     "name": "stdout",
     "output_type": "stream",
     "text": [
      "Resume for jkl001@ucsd.edu downloaded.\n"
     ]
    },
    {
     "name": "stderr",
     "output_type": "stream",
     "text": [
      "connected.\n",
      "HTTP request sent, awaiting response... 200 OK\n",
      "Length: unspecified [application/pdf]\n",
      "Saving to: ‘./resumes/ResumeLatest.pdf’\n",
      "\n",
      "     0K .......... .......... .......... .......... ..........  626K\n",
      "    50K .......... .......... ........                         9.55M=0.08s\n",
      "\n",
      "2022-10-17 13:33:33 (948 KB/s) - ‘./resumes/ResumeLatest.pdf’ saved [80379]\n",
      "\n",
      "--2022-10-17 13:33:33--  https://api.typeform.com/responses/files/674b9350cc5fe9f8ab54ea445a5968a21c1c42c997aaa897b8365005f94d57bf/Shreyan_Resume.pdf\n",
      "Resolving api.typeform.com (api.typeform.com)... 44.193.158.32, 54.144.182.22, 54.160.99.46\n",
      "Connecting to api.typeform.com (api.typeform.com)|44.193.158.32|:443... "
     ]
    },
    {
     "name": "stdout",
     "output_type": "stream",
     "text": [
      "Resume for gsaluja@ucsd.edu downloaded.\n"
     ]
    },
    {
     "name": "stderr",
     "output_type": "stream",
     "text": [
      "connected.\n",
      "HTTP request sent, awaiting response... 200 OK\n",
      "Length: unspecified [application/pdf]\n",
      "Saving to: ‘./resumes/Shreyan_Resume.pdf’\n",
      "\n",
      "     0K .......... .......... .......... .......... .......... 75.7K\n",
      "    50K .......... .......... .......... .......... ..........  619K\n",
      "   100K .......... .......... .......... .....                  468K=0.8s\n",
      "\n",
      "2022-10-17 13:33:35 (166 KB/s) - ‘./resumes/Shreyan_Resume.pdf’ saved [138696]\n",
      "\n",
      "--2022-10-17 13:33:35--  https://api.typeform.com/responses/files/bc80278e4f9608f316cad6dc7e467ddc44f8f2ff4b23ed3fcceca061b8421cbc/Lugo_Sophia.resume.pdf\n"
     ]
    },
    {
     "name": "stdout",
     "output_type": "stream",
     "text": [
      "Resume for s1sood@ucsd.edu downloaded.\n"
     ]
    },
    {
     "name": "stderr",
     "output_type": "stream",
     "text": [
      "Resolving api.typeform.com (api.typeform.com)... 44.193.158.32, 54.144.182.22, 54.160.99.46\n",
      "Connecting to api.typeform.com (api.typeform.com)|44.193.158.32|:443... connected.\n",
      "HTTP request sent, awaiting response... 200 OK\n",
      "Length: unspecified [application/pdf]\n",
      "Saving to: ‘./resumes/Lugo_Sophia.resume.pdf’\n",
      "\n",
      "     0K .......... .......... .......... .......... ..........  161K\n",
      "    50K .......... .......... .......... ..........             538K=0.4s\n",
      "\n",
      "2022-10-17 13:33:36 (235 KB/s) - ‘./resumes/Lugo_Sophia.resume.pdf’ saved [93094]\n",
      "\n",
      "--2022-10-17 13:33:36--  https://api.typeform.com/responses/files/3dc2041d7d92a05c47e3c401bce2f5b90f4e41cb35f14b6b6c3e6f23dbdc759c/2022_Resume_Alec_Panattoni.pdf\n"
     ]
    },
    {
     "name": "stdout",
     "output_type": "stream",
     "text": [
      "Resume for slugo@ucsd.edu downloaded.\n"
     ]
    },
    {
     "name": "stderr",
     "output_type": "stream",
     "text": [
      "Resolving api.typeform.com (api.typeform.com)... 44.193.158.32, 54.144.182.22, 54.160.99.46\n",
      "Connecting to api.typeform.com (api.typeform.com)|44.193.158.32|:443... connected.\n",
      "HTTP request sent, awaiting response... 200 OK\n",
      "Length: unspecified [application/pdf]\n",
      "Saving to: ‘./resumes/2022_Resume_Alec_Panattoni.pdf’\n",
      "\n",
      "     0K .......... .......... .......... .......... ..........  176K\n",
      "    50K .......... .......... .......... .......... ..........  308K\n",
      "   100K .......... .......... .......... .......... ..........  558K\n",
      "   150K .......... ......                                      66.5M=0.5s\n",
      "\n",
      "2022-10-17 13:33:37 (311 KB/s) - ‘./resumes/2022_Resume_Alec_Panattoni.pdf’ saved [170681]\n",
      "\n",
      "--2022-10-17 13:33:37--  https://api.typeform.com/responses/files/9d24099970ff457c4664f1262f4503e18d368ce4711aac92fd8d90cd5d40734d/Samuel_Resume.docx\n",
      "Resolving api.typeform.com (api.typeform.com)... 44.193.158.32, 54.144.182.22, 54.160.99.46\n",
      "Connecting to api.typeform.com (api.typeform.com)|44.193.158.32|:443... "
     ]
    },
    {
     "name": "stdout",
     "output_type": "stream",
     "text": [
      "Resume for apanatto@ucsd.edu downloaded.\n"
     ]
    },
    {
     "name": "stderr",
     "output_type": "stream",
     "text": [
      "connected.\n",
      "HTTP request sent, awaiting response... 200 OK\n",
      "Length: unspecified [application/vnd.openxmlformats-officedocument.wordprocessingml.document]\n",
      "Saving to: ‘./resumes/Samuel_Resume.docx’\n",
      "\n",
      "     0K ..........                                             54.1M=0s\n",
      "\n",
      "2022-10-17 13:33:38 (54.1 MB/s) - ‘./resumes/Samuel_Resume.docx’ saved [10263]\n",
      "\n",
      "--2022-10-17 13:33:38--  https://api.typeform.com/responses/files/d34eddcb74a0dda52d03df7e7adb4a615a49109bf9ed30fc8e534d8e39d2a2fc/Resume.pdf\n",
      "Resolving api.typeform.com (api.typeform.com)... 44.193.158.32, 54.144.182.22, 54.160.99.46\n",
      "Connecting to api.typeform.com (api.typeform.com)|44.193.158.32|:443... connected.\n"
     ]
    },
    {
     "name": "stdout",
     "output_type": "stream",
     "text": [
      "Resume for hsl023@ucsd.edu downloaded.\n"
     ]
    },
    {
     "name": "stderr",
     "output_type": "stream",
     "text": [
      "HTTP request sent, awaiting response... 200 OK\n",
      "Length: unspecified [application/pdf]\n",
      "Saving to: ‘./resumes/Resume.pdf.1’\n",
      "\n",
      "     0K .......... .......... .......... .......... ..........  610K\n",
      "    50K .......... .......... .......... .......... ..........  145K\n",
      "   100K .......... .......... .......... .......... ..........  544K\n",
      "   150K .......... .......... .......... .......... ..........  600K\n",
      "   200K .......... .......... .......... .......... ..........  210K\n",
      "   250K .......... .......... .......... .......... ..........  588K\n",
      "   300K .......... .......... .......... .......... ..........  613K\n",
      "   350K .......... .......... .......... .......... .........   534K=1.1s\n",
      "\n",
      "2022-10-17 13:33:39 (363 KB/s) - ‘./resumes/Resume.pdf.1’ saved [409588]\n",
      "\n",
      "--2022-10-17 13:33:39--  https://api.typeform.com/responses/files/fa494098ab48c08272674a7707788b389d87bf252375461c2257b3b5dccff18a/Abdulrahim_Ham__1_.pdf\n",
      "Resolving api.typeform.com (api.typeform.com)... 44.193.158.32, 54.144.182.22, 54.160.99.46\n",
      "Connecting to api.typeform.com (api.typeform.com)|44.193.158.32|:443... "
     ]
    },
    {
     "name": "stdout",
     "output_type": "stream",
     "text": [
      "Resume for apcheng@ucsd.edu downloaded.\n"
     ]
    },
    {
     "name": "stderr",
     "output_type": "stream",
     "text": [
      "connected.\n",
      "HTTP request sent, awaiting response... 200 OK\n",
      "Length: unspecified [application/pdf]\n",
      "Saving to: ‘./resumes/Abdulrahim_Ham__1_.pdf’\n",
      "\n",
      "     0K .......... .......... .......... .......... .........   627K=0.08s\n",
      "\n",
      "2022-10-17 13:33:40 (627 KB/s) - ‘./resumes/Abdulrahim_Ham__1_.pdf’ saved [51088]\n",
      "\n",
      "--2022-10-17 13:33:40--  https://api.typeform.com/responses/files/0c1d4ba11ede60c98333f1bd2789f26caa723b4724d1163e3ab3208d9e418b2f/Resume.pdf\n",
      "Resolving api.typeform.com (api.typeform.com)... 44.193.158.32, 54.144.182.22, 54.160.99.46\n",
      "Connecting to api.typeform.com (api.typeform.com)|44.193.158.32|:443... "
     ]
    },
    {
     "name": "stdout",
     "output_type": "stream",
     "text": [
      "Resume for amham@ucsd.edu downloaded.\n"
     ]
    },
    {
     "name": "stderr",
     "output_type": "stream",
     "text": [
      "connected.\n",
      "HTTP request sent, awaiting response... 200 OK\n",
      "Length: unspecified [application/pdf]\n",
      "Saving to: ‘./resumes/Resume.pdf.2’\n",
      "\n",
      "     0K .......... .......... .......... .......... ..........  589K\n",
      "    50K .......... .......... .......... .......... ..........  327K\n",
      "   100K .......... .......... .......... .......... ..........  627K\n",
      "   150K .......... .......... .......... .......... ..........  144K\n",
      "   200K .......... .......... .......... .......... ..........  662K\n",
      "   250K .......... .......... .......... ........               458K=0.8s\n",
      "\n",
      "2022-10-17 13:33:42 (350 KB/s) - ‘./resumes/Resume.pdf.2’ saved [295791]\n",
      "\n",
      "--2022-10-17 13:33:42--  https://api.typeform.com/responses/files/1ba6bf7157f9cc109e2fd4533240e607ee5ce8417bc6e20ea5521cfaa4f7ed2f/Leena_Kang_Resume_2022.pdf\n",
      "Resolving api.typeform.com (api.typeform.com)... 44.193.158.32, 54.144.182.22, 54.160.99.46\n",
      "Connecting to api.typeform.com (api.typeform.com)|44.193.158.32|:443... connected.\n"
     ]
    },
    {
     "name": "stdout",
     "output_type": "stream",
     "text": [
      "Resume for prebala@ucsd.edu downloaded.\n"
     ]
    },
    {
     "name": "stderr",
     "output_type": "stream",
     "text": [
      "HTTP request sent, awaiting response... 200 OK\n",
      "Length: unspecified [application/pdf]\n",
      "Saving to: ‘./resumes/Leena_Kang_Resume_2022.pdf’\n",
      "\n",
      "     0K .......... .......... .......... .......... ..........  509K\n",
      "    50K .......... .......... .......... .......... ..........  333K\n",
      "   100K .......... .......... .......... .......... .......... 94.2K\n",
      "   150K .......... .......... .......... .......... ..........  185K\n",
      "   200K .......... .......... .......... .......... ..........  314K\n",
      "   250K .......... .......... .......... .......... ..........  220K\n",
      "   300K .......... .......... .......... .......... ..........  652K\n",
      "   350K .......... .......... .......... .......... ..........  212K\n",
      "   400K .......... .......... .......... .......... ..........  554K\n",
      "   450K .......... .......... .......... .......... ..........  146K\n",
      "   500K .......... .......... .......... .......... ..........  544K\n",
      "   550K .......... .......... .......... .......... ..........  157K\n",
      "   600K .......... .......... .......... .......... ..........  633K\n",
      "   650K .......... .......... .......... ..........             526K=2.7s\n",
      "\n",
      "2022-10-17 13:33:46 (251 KB/s) - ‘./resumes/Leena_Kang_Resume_2022.pdf’ saved [706712]\n",
      "\n",
      "--2022-10-17 13:33:46--  https://api.typeform.com/responses/files/2f9a47255d31f55d8cb229b26299fddd5470ce21614c56227dd74a354e406e59/Black_White_Minimalist_CV_Resume.png\n"
     ]
    },
    {
     "name": "stdout",
     "output_type": "stream",
     "text": [
      "Resume for l1kang@ucsd.edu downloaded.\n"
     ]
    },
    {
     "name": "stderr",
     "output_type": "stream",
     "text": [
      "Resolving api.typeform.com (api.typeform.com)... 44.193.158.32, 54.144.182.22, 54.160.99.46\n",
      "Connecting to api.typeform.com (api.typeform.com)|44.193.158.32|:443... connected.\n",
      "HTTP request sent, awaiting response... 200 OK\n",
      "Length: unspecified [image/png]\n",
      "Saving to: ‘./resumes/Black_White_Minimalist_CV_Resume.png’\n",
      "\n",
      "     0K .......... .......... .......... .......... .......... 67.3K\n",
      "    50K .......... .......... .......... .......... ..........  219K\n",
      "   100K .......... .......... .......... .......... ..........  219K\n",
      "   150K .......... .......... .......... .......... ..........  311K\n",
      "   200K .......... .......... .                                4.32M=1.4s\n",
      "\n",
      "2022-10-17 13:33:48 (162 KB/s) - ‘./resumes/Black_White_Minimalist_CV_Resume.png’ saved [226900]\n",
      "\n",
      "--2022-10-17 13:33:48--  https://api.typeform.com/responses/files/59f04fc3f5dc6bf43a80137042138b949701927a719898b0552847186279b594/Kethan_Bethamcharla_Resume.pdf\n"
     ]
    },
    {
     "name": "stdout",
     "output_type": "stream",
     "text": [
      "Resume for ann025@ucsd.edu downloaded.\n"
     ]
    },
    {
     "name": "stderr",
     "output_type": "stream",
     "text": [
      "Resolving api.typeform.com (api.typeform.com)... 44.193.158.32, 54.144.182.22, 54.160.99.46\n",
      "Connecting to api.typeform.com (api.typeform.com)|44.193.158.32|:443... connected.\n",
      "HTTP request sent, awaiting response... 200 OK\n",
      "Length: unspecified [application/pdf]\n",
      "Saving to: ‘./resumes/Kethan_Bethamcharla_Resume.pdf’\n",
      "\n",
      "     0K .......... .......... .......... .......... ..........  313K\n",
      "    50K .......... .......... .......... .......... ..........  108K\n",
      "   100K ..                                                     18.4M=0.6s\n",
      "\n",
      "2022-10-17 13:33:49 (164 KB/s) - ‘./resumes/Kethan_Bethamcharla_Resume.pdf’ saved [104545]\n",
      "\n",
      "--2022-10-17 13:33:49--  https://api.typeform.com/responses/files/f3913a1fcbbe5ae6a30c4077b1cb191a66dfd54a8392245ab17cb3621b75d5b5/ManeaResume9_19_22.pdf\n",
      "Resolving api.typeform.com (api.typeform.com)... 44.193.158.32, 54.144.182.22, 54.160.99.46\n",
      "Connecting to api.typeform.com (api.typeform.com)|44.193.158.32|:443... "
     ]
    },
    {
     "name": "stdout",
     "output_type": "stream",
     "text": [
      "Resume for lbethamcharla@ucsd.edu downloaded.\n"
     ]
    },
    {
     "name": "stderr",
     "output_type": "stream",
     "text": [
      "connected.\n",
      "HTTP request sent, awaiting response... 200 OK\n",
      "Length: unspecified [application/pdf]\n",
      "Saving to: ‘./resumes/ManeaResume9_19_22.pdf’\n",
      "\n",
      "     0K .......... .......... .......... .......... .....       143K=0.3s\n",
      "\n",
      "2022-10-17 13:33:50 (143 KB/s) - ‘./resumes/ManeaResume9_19_22.pdf’ saved [47033]\n",
      "\n",
      "--2022-10-17 13:33:50--  https://api.typeform.com/responses/files/818f0f34b38bd93e845c38aa8101f216c7a9c3491c8ee220cf357c0656c0eb05/Obaid_Allawala_Resume.docx\n",
      "Resolving api.typeform.com (api.typeform.com)... 44.193.158.32, 54.144.182.22, 54.160.99.46\n",
      "Connecting to api.typeform.com (api.typeform.com)|44.193.158.32|:443... connected.\n"
     ]
    },
    {
     "name": "stdout",
     "output_type": "stream",
     "text": [
      "Resume for rmanea@ucsd.edu downloaded.\n"
     ]
    },
    {
     "name": "stderr",
     "output_type": "stream",
     "text": [
      "HTTP request sent, awaiting response... 200 OK\n",
      "Length: unspecified [application/vnd.openxmlformats-officedocument.wordprocessingml.document]\n",
      "Saving to: ‘./resumes/Obaid_Allawala_Resume.docx’\n",
      "\n",
      "     0K .......... .......... ...                              4.55M=0.005s\n",
      "\n",
      "2022-10-17 13:33:51 (4.55 MB/s) - ‘./resumes/Obaid_Allawala_Resume.docx’ saved [24215]\n",
      "\n",
      "--2022-10-17 13:33:51--  https://api.typeform.com/responses/files/41d3f3c76676076d86267f271fad7ddfd00be29048fb0c56aa3067d612156a24/Fei_Teng_Curriculum_Vitae.pdf\n",
      "Resolving api.typeform.com (api.typeform.com)... 44.193.158.32, 54.144.182.22, 54.160.99.46\n",
      "Connecting to api.typeform.com (api.typeform.com)|44.193.158.32|:443... connected.\n"
     ]
    },
    {
     "name": "stdout",
     "output_type": "stream",
     "text": [
      "Resume for oallawala@ucsd.edu downloaded.\n"
     ]
    },
    {
     "name": "stderr",
     "output_type": "stream",
     "text": [
      "HTTP request sent, awaiting response... 200 OK\n",
      "Length: unspecified [application/pdf]\n",
      "Saving to: ‘./resumes/Fei_Teng_Curriculum_Vitae.pdf’\n",
      "\n",
      "     0K .......... .......... .......... .......... ..........  198K\n",
      "    50K .......... .......... .......... .......... ..........  124K\n",
      "   100K ..                                                     45.5K=0.7s\n",
      "\n",
      "2022-10-17 13:33:52 (156 KB/s) - ‘./resumes/Fei_Teng_Curriculum_Vitae.pdf’ saved [104732]\n",
      "\n",
      "--2022-10-17 13:33:52--  https://api.typeform.com/responses/files/ebb56e6d74c2f046e262c7781406af71cb1b7c3d53419c1af8d4944282f27b04/Tanvi_Joshi_RESUME_09_30_2022.pdf\n",
      "Resolving api.typeform.com (api.typeform.com)... 44.193.158.32, 54.144.182.22, 54.160.99.46\n",
      "Connecting to api.typeform.com (api.typeform.com)|44.193.158.32|:443... connected.\n"
     ]
    },
    {
     "name": "stdout",
     "output_type": "stream",
     "text": [
      "Resume for feteng@ucsd.edu downloaded.\n"
     ]
    },
    {
     "name": "stderr",
     "output_type": "stream",
     "text": [
      "HTTP request sent, awaiting response... 200 OK\n",
      "Length: unspecified [application/pdf]\n",
      "Saving to: ‘./resumes/Tanvi_Joshi_RESUME_09_30_2022.pdf’\n",
      "\n",
      "     0K .......... .......... .......... .......... ..........  106K\n",
      "    50K .......... .......... ...                              51.7M=0.5s\n",
      "\n",
      "2022-10-17 13:33:53 (155 KB/s) - ‘./resumes/Tanvi_Joshi_RESUME_09_30_2022.pdf’ saved [74781]\n",
      "\n",
      "--2022-10-17 13:33:53--  https://api.typeform.com/responses/files/7f9ed469b6f28139afd9495665091aa1f8dd991a17e08cf67d7aabdb9434e7f8/Yiting_s_resume__fall_0_.pdf\n",
      "Resolving api.typeform.com (api.typeform.com)... 44.193.158.32, 54.144.182.22, 54.160.99.46\n",
      "Connecting to api.typeform.com (api.typeform.com)|44.193.158.32|:443... connected.\n"
     ]
    },
    {
     "name": "stdout",
     "output_type": "stream",
     "text": [
      "Resume for tjoshi@ucsd.edu downloaded.\n"
     ]
    },
    {
     "name": "stderr",
     "output_type": "stream",
     "text": [
      "HTTP request sent, awaiting response... 200 OK\n",
      "Length: unspecified [application/pdf]\n",
      "Saving to: ‘./resumes/Yiting_s_resume__fall_0_.pdf’\n",
      "\n",
      "     0K .......... .......... .......... .......... ..........  123K\n",
      "    50K .......... .......... .......... .......... ..........  323K\n",
      "   100K .                                                      39.1K=0.6s\n",
      "\n",
      "2022-10-17 13:33:55 (181 KB/s) - ‘./resumes/Yiting_s_resume__fall_0_.pdf’ saved [104404]\n",
      "\n",
      "--2022-10-17 13:33:55--  https://api.typeform.com/responses/files/e3142cad4ae962a49a41db5fb68b080ce53f92043bdb01f9f5ed39e0fb4b1620/Sanya_Resume.pdf\n",
      "Resolving api.typeform.com (api.typeform.com)... 44.193.158.32, 54.144.182.22, 54.160.99.46\n",
      "Connecting to api.typeform.com (api.typeform.com)|44.193.158.32|:443... connected.\n"
     ]
    },
    {
     "name": "stdout",
     "output_type": "stream",
     "text": [
      "Resume for y2bu@ucsd.edu downloaded.\n"
     ]
    },
    {
     "name": "stderr",
     "output_type": "stream",
     "text": [
      "HTTP request sent, awaiting response... 200 OK\n",
      "Length: unspecified [application/pdf]\n",
      "Saving to: ‘./resumes/Sanya_Resume.pdf’\n",
      "\n",
      "     0K .......... .......... .......... .......... ..........  314K\n",
      "    50K .......... .......... .......... .......... ..........  161K\n",
      "   100K .......... .......... .......... .......... ..........  278K\n",
      "   150K ....                                                   33.6M=0.6s\n",
      "\n",
      "2022-10-17 13:33:56 (239 KB/s) - ‘./resumes/Sanya_Resume.pdf’ saved [158641]\n",
      "\n"
     ]
    },
    {
     "name": "stdout",
     "output_type": "stream",
     "text": [
      "Resume for schetwani@ucsd.edu downloaded.\n"
     ]
    },
    {
     "name": "stderr",
     "output_type": "stream",
     "text": [
      "--2022-10-17 13:33:56--  https://api.typeform.com/responses/files/6e6f25a7bf862582b4337613e4f08002f62cf76b9b66128c09813cad242ce805/RESUME_1.pdf\n",
      "Resolving api.typeform.com (api.typeform.com)... 44.193.158.32, 54.144.182.22, 54.160.99.46\n",
      "Connecting to api.typeform.com (api.typeform.com)|44.193.158.32|:443... connected.\n",
      "HTTP request sent, awaiting response... 200 OK\n",
      "Length: unspecified [application/pdf]\n",
      "Saving to: ‘./resumes/RESUME_1.pdf’\n",
      "\n",
      "     0K .......... .......... .......... .....                  216K=0.2s\n",
      "\n",
      "2022-10-17 13:33:57 (216 KB/s) - ‘./resumes/RESUME_1.pdf’ saved [36372]\n",
      "\n"
     ]
    },
    {
     "name": "stdout",
     "output_type": "stream",
     "text": [
      "Resume for etcao@ucsd.edu downloaded.\n"
     ]
    },
    {
     "name": "stderr",
     "output_type": "stream",
     "text": [
      "--2022-10-17 13:33:57--  https://api.typeform.com/responses/files/09c2ed6ff98d2bcc2da0603688364f3a9078b62bc6720a1758af16408e843355/ResumeOfJosephSamuel.pdf\n",
      "Resolving api.typeform.com (api.typeform.com)... 44.193.158.32, 54.144.182.22, 54.160.99.46\n",
      "Connecting to api.typeform.com (api.typeform.com)|44.193.158.32|:443... connected.\n",
      "HTTP request sent, awaiting response... 200 OK\n",
      "Length: unspecified [application/pdf]\n",
      "Saving to: ‘./resumes/ResumeOfJosephSamuel.pdf’\n",
      "\n",
      "     0K .......... .......... .......... .......... ..........  169K\n",
      "    50K .......... .......... .......... .......... .......... 90.6K\n",
      "   100K .....                                                   119K=0.8s\n",
      "\n",
      "2022-10-17 13:33:59 (125 KB/s) - ‘./resumes/ResumeOfJosephSamuel.pdf’ saved [108515]\n",
      "\n",
      "--2022-10-17 13:33:59--  https://api.typeform.com/responses/files/224187f23ee655e5f5ad2fd4dc5774b59c6f4fd0ef75047dd529b0d46e883946/kaushik_resume.pdf\n",
      "Resolving api.typeform.com (api.typeform.com)... 44.193.158.32, 54.144.182.22, 54.160.99.46\n",
      "Connecting to api.typeform.com (api.typeform.com)|44.193.158.32|:443... "
     ]
    },
    {
     "name": "stdout",
     "output_type": "stream",
     "text": [
      "Resume for josamuel@ucsd.edu downloaded.\n"
     ]
    },
    {
     "name": "stderr",
     "output_type": "stream",
     "text": [
      "connected.\n",
      "HTTP request sent, awaiting response... 200 OK\n",
      "Length: unspecified [application/pdf]\n",
      "Saving to: ‘./resumes/kaushik_resume.pdf’\n",
      "\n",
      "     0K .......... .......... .......... .......... ..........  115K\n",
      "    50K .......... .......... .......... .......... ..........  281K\n",
      "   100K .......... .......... .......... .......... ..........  162K\n",
      "   150K .......... .......... .......... .......... ..........  261K\n",
      "   200K .......... .......... .......... .......... ..........  138K\n",
      "   250K .......... .......... .......... .......... ..........  300K\n",
      "   300K .......... .......... .......... .......... ..........  121K\n",
      "   350K .....                                                  9.39M=2.1s\n",
      "\n",
      "2022-10-17 13:34:01 (173 KB/s) - ‘./resumes/kaushik_resume.pdf’ saved [363962]\n",
      "\n",
      "--2022-10-17 13:34:01--  https://api.typeform.com/responses/files/94b0b063e7bfa6897cce49ce2f013e990c6996625dc988cd65885d216fccbdbf/Bradley_Nathanson_Resume_Updated.pdf\n",
      "Resolving api.typeform.com (api.typeform.com)... 44.193.158.32, 54.144.182.22, 54.160.99.46\n",
      "Connecting to api.typeform.com (api.typeform.com)|44.193.158.32|:443... "
     ]
    },
    {
     "name": "stdout",
     "output_type": "stream",
     "text": [
      "Resume for ssoma@ucsd.edu downloaded.\n"
     ]
    },
    {
     "ename": "KeyboardInterrupt",
     "evalue": "",
     "output_type": "error",
     "traceback": [
      "\u001b[0;31m---------------------------------------------------------------------------\u001b[0m",
      "\u001b[0;31mKeyboardInterrupt\u001b[0m                         Traceback (most recent call last)",
      "\u001b[0;32m/var/folders/mc/421h_39x625fpy09_jss5vrh0000gn/T/ipykernel_72599/739918076.py\u001b[0m in \u001b[0;36m<module>\u001b[0;34m\u001b[0m\n\u001b[1;32m      9\u001b[0m     \u001b[0mprint\u001b[0m\u001b[0;34m(\u001b[0m\u001b[0;34mf\"Resume for {email} downloaded.\"\u001b[0m\u001b[0;34m)\u001b[0m\u001b[0;34m\u001b[0m\u001b[0;34m\u001b[0m\u001b[0m\n\u001b[1;32m     10\u001b[0m \u001b[0;34m\u001b[0m\u001b[0m\n\u001b[0;32m---> 11\u001b[0;31m \u001b[0mlist\u001b[0m\u001b[0;34m(\u001b[0m\u001b[0mmap\u001b[0m\u001b[0;34m(\u001b[0m\u001b[0mdownload_resume\u001b[0m\u001b[0;34m,\u001b[0m \u001b[0mall_logs\u001b[0m\u001b[0;34m[\u001b[0m\u001b[0;34m'green'\u001b[0m\u001b[0;34m]\u001b[0m\u001b[0;34m)\u001b[0m\u001b[0;34m)\u001b[0m\u001b[0;34m\u001b[0m\u001b[0;34m\u001b[0m\u001b[0m\n\u001b[0m\u001b[1;32m     12\u001b[0m \u001b[0;34m\u001b[0m\u001b[0m\n\u001b[1;32m     13\u001b[0m \u001b[0mlist\u001b[0m\u001b[0;34m(\u001b[0m\u001b[0mmap\u001b[0m\u001b[0;34m(\u001b[0m\u001b[0mdownload_resume\u001b[0m\u001b[0;34m,\u001b[0m \u001b[0mall_logs\u001b[0m\u001b[0;34m[\u001b[0m\u001b[0;34m'orange'\u001b[0m\u001b[0;34m]\u001b[0m\u001b[0;34m)\u001b[0m\u001b[0;34m)\u001b[0m\u001b[0;34m\u001b[0m\u001b[0;34m\u001b[0m\u001b[0m\n",
      "\u001b[0;32m/var/folders/mc/421h_39x625fpy09_jss5vrh0000gn/T/ipykernel_72599/739918076.py\u001b[0m in \u001b[0;36mdownload_resume\u001b[0;34m(w3w)\u001b[0m\n\u001b[1;32m      6\u001b[0m         \u001b[0;34m.\u001b[0m\u001b[0msort_values\u001b[0m\u001b[0;34m(\u001b[0m\u001b[0;34m\"Submitted At\"\u001b[0m\u001b[0;34m)\u001b[0m\u001b[0;31m \u001b[0m\u001b[0;31m\\\u001b[0m\u001b[0;34m\u001b[0m\u001b[0;34m\u001b[0m\u001b[0m\n\u001b[1;32m      7\u001b[0m         \u001b[0;34m.\u001b[0m\u001b[0miloc\u001b[0m\u001b[0;34m[\u001b[0m\u001b[0;36m0\u001b[0m\u001b[0;34m]\u001b[0m\u001b[0;34m[\u001b[0m\u001b[0;34m'Please upload your resume here.'\u001b[0m\u001b[0;34m]\u001b[0m\u001b[0;34m\u001b[0m\u001b[0;34m\u001b[0m\u001b[0m\n\u001b[0;32m----> 8\u001b[0;31m     \u001b[0msubprocess\u001b[0m\u001b[0;34m.\u001b[0m\u001b[0mrun\u001b[0m\u001b[0;34m(\u001b[0m\u001b[0;34mf\"wget {resume_url} -P ./resumes/\"\u001b[0m\u001b[0;34m,\u001b[0m \u001b[0mshell\u001b[0m\u001b[0;34m=\u001b[0m\u001b[0;32mTrue\u001b[0m\u001b[0;34m,\u001b[0m \u001b[0mcheck\u001b[0m\u001b[0;34m=\u001b[0m\u001b[0;32mTrue\u001b[0m\u001b[0;34m)\u001b[0m\u001b[0;34m\u001b[0m\u001b[0;34m\u001b[0m\u001b[0m\n\u001b[0m\u001b[1;32m      9\u001b[0m     \u001b[0mprint\u001b[0m\u001b[0;34m(\u001b[0m\u001b[0;34mf\"Resume for {email} downloaded.\"\u001b[0m\u001b[0;34m)\u001b[0m\u001b[0;34m\u001b[0m\u001b[0;34m\u001b[0m\u001b[0m\n\u001b[1;32m     10\u001b[0m \u001b[0;34m\u001b[0m\u001b[0m\n",
      "\u001b[0;32m~/anaconda3/envs/py39/lib/python3.9/subprocess.py\u001b[0m in \u001b[0;36mrun\u001b[0;34m(input, capture_output, timeout, check, *popenargs, **kwargs)\u001b[0m\n\u001b[1;32m    505\u001b[0m     \u001b[0;32mwith\u001b[0m \u001b[0mPopen\u001b[0m\u001b[0;34m(\u001b[0m\u001b[0;34m*\u001b[0m\u001b[0mpopenargs\u001b[0m\u001b[0;34m,\u001b[0m \u001b[0;34m**\u001b[0m\u001b[0mkwargs\u001b[0m\u001b[0;34m)\u001b[0m \u001b[0;32mas\u001b[0m \u001b[0mprocess\u001b[0m\u001b[0;34m:\u001b[0m\u001b[0;34m\u001b[0m\u001b[0;34m\u001b[0m\u001b[0m\n\u001b[1;32m    506\u001b[0m         \u001b[0;32mtry\u001b[0m\u001b[0;34m:\u001b[0m\u001b[0;34m\u001b[0m\u001b[0;34m\u001b[0m\u001b[0m\n\u001b[0;32m--> 507\u001b[0;31m             \u001b[0mstdout\u001b[0m\u001b[0;34m,\u001b[0m \u001b[0mstderr\u001b[0m \u001b[0;34m=\u001b[0m \u001b[0mprocess\u001b[0m\u001b[0;34m.\u001b[0m\u001b[0mcommunicate\u001b[0m\u001b[0;34m(\u001b[0m\u001b[0minput\u001b[0m\u001b[0;34m,\u001b[0m \u001b[0mtimeout\u001b[0m\u001b[0;34m=\u001b[0m\u001b[0mtimeout\u001b[0m\u001b[0;34m)\u001b[0m\u001b[0;34m\u001b[0m\u001b[0;34m\u001b[0m\u001b[0m\n\u001b[0m\u001b[1;32m    508\u001b[0m         \u001b[0;32mexcept\u001b[0m \u001b[0mTimeoutExpired\u001b[0m \u001b[0;32mas\u001b[0m \u001b[0mexc\u001b[0m\u001b[0;34m:\u001b[0m\u001b[0;34m\u001b[0m\u001b[0;34m\u001b[0m\u001b[0m\n\u001b[1;32m    509\u001b[0m             \u001b[0mprocess\u001b[0m\u001b[0;34m.\u001b[0m\u001b[0mkill\u001b[0m\u001b[0;34m(\u001b[0m\u001b[0;34m)\u001b[0m\u001b[0;34m\u001b[0m\u001b[0;34m\u001b[0m\u001b[0m\n",
      "\u001b[0;32m~/anaconda3/envs/py39/lib/python3.9/subprocess.py\u001b[0m in \u001b[0;36mcommunicate\u001b[0;34m(self, input, timeout)\u001b[0m\n\u001b[1;32m   1124\u001b[0m                 \u001b[0mstderr\u001b[0m \u001b[0;34m=\u001b[0m \u001b[0mself\u001b[0m\u001b[0;34m.\u001b[0m\u001b[0mstderr\u001b[0m\u001b[0;34m.\u001b[0m\u001b[0mread\u001b[0m\u001b[0;34m(\u001b[0m\u001b[0;34m)\u001b[0m\u001b[0;34m\u001b[0m\u001b[0;34m\u001b[0m\u001b[0m\n\u001b[1;32m   1125\u001b[0m                 \u001b[0mself\u001b[0m\u001b[0;34m.\u001b[0m\u001b[0mstderr\u001b[0m\u001b[0;34m.\u001b[0m\u001b[0mclose\u001b[0m\u001b[0;34m(\u001b[0m\u001b[0;34m)\u001b[0m\u001b[0;34m\u001b[0m\u001b[0;34m\u001b[0m\u001b[0m\n\u001b[0;32m-> 1126\u001b[0;31m             \u001b[0mself\u001b[0m\u001b[0;34m.\u001b[0m\u001b[0mwait\u001b[0m\u001b[0;34m(\u001b[0m\u001b[0;34m)\u001b[0m\u001b[0;34m\u001b[0m\u001b[0;34m\u001b[0m\u001b[0m\n\u001b[0m\u001b[1;32m   1127\u001b[0m         \u001b[0;32melse\u001b[0m\u001b[0;34m:\u001b[0m\u001b[0;34m\u001b[0m\u001b[0;34m\u001b[0m\u001b[0m\n\u001b[1;32m   1128\u001b[0m             \u001b[0;32mif\u001b[0m \u001b[0mtimeout\u001b[0m \u001b[0;32mis\u001b[0m \u001b[0;32mnot\u001b[0m \u001b[0;32mNone\u001b[0m\u001b[0;34m:\u001b[0m\u001b[0;34m\u001b[0m\u001b[0;34m\u001b[0m\u001b[0m\n",
      "\u001b[0;32m~/anaconda3/envs/py39/lib/python3.9/subprocess.py\u001b[0m in \u001b[0;36mwait\u001b[0;34m(self, timeout)\u001b[0m\n\u001b[1;32m   1187\u001b[0m             \u001b[0mendtime\u001b[0m \u001b[0;34m=\u001b[0m \u001b[0m_time\u001b[0m\u001b[0;34m(\u001b[0m\u001b[0;34m)\u001b[0m \u001b[0;34m+\u001b[0m \u001b[0mtimeout\u001b[0m\u001b[0;34m\u001b[0m\u001b[0;34m\u001b[0m\u001b[0m\n\u001b[1;32m   1188\u001b[0m         \u001b[0;32mtry\u001b[0m\u001b[0;34m:\u001b[0m\u001b[0;34m\u001b[0m\u001b[0;34m\u001b[0m\u001b[0m\n\u001b[0;32m-> 1189\u001b[0;31m             \u001b[0;32mreturn\u001b[0m \u001b[0mself\u001b[0m\u001b[0;34m.\u001b[0m\u001b[0m_wait\u001b[0m\u001b[0;34m(\u001b[0m\u001b[0mtimeout\u001b[0m\u001b[0;34m=\u001b[0m\u001b[0mtimeout\u001b[0m\u001b[0;34m)\u001b[0m\u001b[0;34m\u001b[0m\u001b[0;34m\u001b[0m\u001b[0m\n\u001b[0m\u001b[1;32m   1190\u001b[0m         \u001b[0;32mexcept\u001b[0m \u001b[0mKeyboardInterrupt\u001b[0m\u001b[0;34m:\u001b[0m\u001b[0;34m\u001b[0m\u001b[0;34m\u001b[0m\u001b[0m\n\u001b[1;32m   1191\u001b[0m             \u001b[0;31m# https://bugs.python.org/issue25942\u001b[0m\u001b[0;34m\u001b[0m\u001b[0;34m\u001b[0m\u001b[0m\n",
      "\u001b[0;32m~/anaconda3/envs/py39/lib/python3.9/subprocess.py\u001b[0m in \u001b[0;36m_wait\u001b[0;34m(self, timeout)\u001b[0m\n\u001b[1;32m   1915\u001b[0m                         \u001b[0;32mif\u001b[0m \u001b[0mself\u001b[0m\u001b[0;34m.\u001b[0m\u001b[0mreturncode\u001b[0m \u001b[0;32mis\u001b[0m \u001b[0;32mnot\u001b[0m \u001b[0;32mNone\u001b[0m\u001b[0;34m:\u001b[0m\u001b[0;34m\u001b[0m\u001b[0;34m\u001b[0m\u001b[0m\n\u001b[1;32m   1916\u001b[0m                             \u001b[0;32mbreak\u001b[0m  \u001b[0;31m# Another thread waited.\u001b[0m\u001b[0;34m\u001b[0m\u001b[0;34m\u001b[0m\u001b[0m\n\u001b[0;32m-> 1917\u001b[0;31m                         \u001b[0;34m(\u001b[0m\u001b[0mpid\u001b[0m\u001b[0;34m,\u001b[0m \u001b[0msts\u001b[0m\u001b[0;34m)\u001b[0m \u001b[0;34m=\u001b[0m \u001b[0mself\u001b[0m\u001b[0;34m.\u001b[0m\u001b[0m_try_wait\u001b[0m\u001b[0;34m(\u001b[0m\u001b[0;36m0\u001b[0m\u001b[0;34m)\u001b[0m\u001b[0;34m\u001b[0m\u001b[0;34m\u001b[0m\u001b[0m\n\u001b[0m\u001b[1;32m   1918\u001b[0m                         \u001b[0;31m# Check the pid and loop as waitpid has been known to\u001b[0m\u001b[0;34m\u001b[0m\u001b[0;34m\u001b[0m\u001b[0m\n\u001b[1;32m   1919\u001b[0m                         \u001b[0;31m# return 0 even without WNOHANG in odd situations.\u001b[0m\u001b[0;34m\u001b[0m\u001b[0;34m\u001b[0m\u001b[0m\n",
      "\u001b[0;32m~/anaconda3/envs/py39/lib/python3.9/subprocess.py\u001b[0m in \u001b[0;36m_try_wait\u001b[0;34m(self, wait_flags)\u001b[0m\n\u001b[1;32m   1873\u001b[0m             \u001b[0;34m\"\"\"All callers to this function MUST hold self._waitpid_lock.\"\"\"\u001b[0m\u001b[0;34m\u001b[0m\u001b[0;34m\u001b[0m\u001b[0m\n\u001b[1;32m   1874\u001b[0m             \u001b[0;32mtry\u001b[0m\u001b[0;34m:\u001b[0m\u001b[0;34m\u001b[0m\u001b[0;34m\u001b[0m\u001b[0m\n\u001b[0;32m-> 1875\u001b[0;31m                 \u001b[0;34m(\u001b[0m\u001b[0mpid\u001b[0m\u001b[0;34m,\u001b[0m \u001b[0msts\u001b[0m\u001b[0;34m)\u001b[0m \u001b[0;34m=\u001b[0m \u001b[0mos\u001b[0m\u001b[0;34m.\u001b[0m\u001b[0mwaitpid\u001b[0m\u001b[0;34m(\u001b[0m\u001b[0mself\u001b[0m\u001b[0;34m.\u001b[0m\u001b[0mpid\u001b[0m\u001b[0;34m,\u001b[0m \u001b[0mwait_flags\u001b[0m\u001b[0;34m)\u001b[0m\u001b[0;34m\u001b[0m\u001b[0;34m\u001b[0m\u001b[0m\n\u001b[0m\u001b[1;32m   1876\u001b[0m             \u001b[0;32mexcept\u001b[0m \u001b[0mChildProcessError\u001b[0m\u001b[0;34m:\u001b[0m\u001b[0;34m\u001b[0m\u001b[0;34m\u001b[0m\u001b[0m\n\u001b[1;32m   1877\u001b[0m                 \u001b[0;31m# This happens if SIGCLD is set to be ignored or waiting\u001b[0m\u001b[0;34m\u001b[0m\u001b[0;34m\u001b[0m\u001b[0m\n",
      "\u001b[0;31mKeyboardInterrupt\u001b[0m: "
     ]
    }
   ],
   "source": [
    "def download_resume(w3w):\n",
    "    \"\"\"Downloads a student's resume to ./resumes\"\"\"\n",
    "    # Get student's resume URL from all_students\n",
    "    email = all_codes[w3w][1]\n",
    "    resume_url = all_students .query(\"\"\"email == @email\"\"\") \\\n",
    "        .sort_values(\"Submitted At\") \\\n",
    "        .iloc[0]['Please upload your resume here.']\n",
    "    subprocess.run(f\"wget {resume_url} -P ./resumes/\", shell=True, check=True)\n",
    "    print(f\"Resume for {email} downloaded.\")\n",
    "\n",
    "list(map(download_resume, all_logs['green']))\n",
    "\n",
    "list(map(download_resume, all_logs['orange']))"
   ]
  },
  {
   "cell_type": "code",
   "execution_count": null,
   "id": "6c1656cb",
   "metadata": {},
   "outputs": [],
   "source": []
  }
 ],
 "metadata": {
  "kernelspec": {
   "display_name": "py39",
   "language": "python",
   "name": "py39"
  },
  "language_info": {
   "codemirror_mode": {
    "name": "ipython",
    "version": 3
   },
   "file_extension": ".py",
   "mimetype": "text/x-python",
   "name": "python",
   "nbconvert_exporter": "python",
   "pygments_lexer": "ipython3",
   "version": "3.9.7"
  }
 },
 "nbformat": 4,
 "nbformat_minor": 5
}
